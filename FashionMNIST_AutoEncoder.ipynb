{
 "cells": [
  {
   "cell_type": "code",
   "execution_count": 1,
   "id": "7dcba06f",
   "metadata": {},
   "outputs": [],
   "source": [
    "import torch\n",
    "import random\n",
    "import numpy as np\n",
    "import matplotlib.pyplot as plt\n",
    "from torchvision.datasets import FashionMNIST\n",
    "from torchvision.transforms import ToTensor\n",
    "from torch.utils.data import ConcatDataset\n",
    "from torch.utils.data import DataLoader, random_split\n",
    "import torchvision.transforms as transforms\n",
    "import torch.nn.functional as F\n",
    "from tqdm import tqdm\n",
    "import torch.nn as nn\n",
    "#from utils.dice_score import multiclass_dice_coeff, dice_coeff"
   ]
  },
  {
   "cell_type": "code",
   "execution_count": 2,
   "id": "8f232abd",
   "metadata": {},
   "outputs": [
    {
     "name": "stdout",
     "output_type": "stream",
     "text": [
      "Using device cuda\n",
      "The combined dataset contains 70000 samples.\n",
      "It contains objects from the following 10 classes:\n",
      "['T-shirt/top', 'Trouser', 'Pullover', 'Dress', 'Coat', 'Sandal', 'Shirt', 'Sneaker', 'Bag', 'Ankle boot'] \n",
      "\n",
      "The shape of an image tensor is: torch.Size([1, 28, 28])\n",
      "The shape of a class label is: torch.Size([1])\n"
     ]
    }
   ],
   "source": [
    "device = torch.device('cuda' if torch.cuda.is_available() else 'cpu')\n",
    "print(f'Using device {device}')\n",
    "\n",
    "# Transformationen definieren\n",
    "transform = transforms.Compose([\n",
    "    transforms.ToTensor(),\n",
    "    transforms.Normalize((0.5,), (0.5,))  # Normalisiert Daten auf [-1, 1]\n",
    "])\n",
    "\n",
    "# Erstellen Sie eine Instanz des Trainingssplits des FashionMNIST-Datasets\n",
    "dataset_train = FashionMNIST(root='/data/FashionMNIST', train=True, download=True, \n",
    "                             transform=transform, target_transform=lambda x: torch.Tensor([x]).int())\n",
    "\n",
    "# Jetzt erstellen Sie eine Instanz des Testsplits\n",
    "dataset_valid = FashionMNIST(root='/data/FashionMNIST', train=False, download=True, \n",
    "                             transform=transform, target_transform=lambda x: torch.Tensor([x]).int())\n",
    "\n",
    "# Für unsere Zwecke können wir die 60k Training- und 10k Testbeispiele kombinieren\n",
    "from torch.utils.data import ConcatDataset\n",
    "dataset = ConcatDataset([dataset_train, dataset_valid])\n",
    "\n",
    "# Einige Informationen zum Datensatz anzeigen\n",
    "print(f'The combined dataset contains {len(dataset)} samples.')\n",
    "print(f'It contains objects from the following {len(dataset_train.classes)} classes:')\n",
    "print(dataset_train.classes, '\\n')\n",
    "# select a random sample index and load the corresponding data sample\n",
    "sample_idx = random.randrange(len(dataset))\n",
    "# \n",
    "img_tensor, class_label = dataset.__getitem__(sample_idx)\n",
    "trainloader = torch.utils.data.DataLoader(dataset_train, batch_size=2048,\n",
    "                                          shuffle=True, num_workers=2)\n",
    "\n",
    "valloader = torch.utils.data.DataLoader(dataset_valid, batch_size=2048,\n",
    "                                       shuffle=True, num_workers=2)\n",
    "\n",
    "\n",
    "\n",
    "print('The shape of an image tensor is:', img_tensor.shape)\n",
    "print('The shape of a class label is:', class_label.shape)"
   ]
  },
  {
   "cell_type": "code",
   "execution_count": 3,
   "id": "487a815f",
   "metadata": {},
   "outputs": [],
   "source": [
    "def leaky_relu_init(m, negative_slope=0.2):\n",
    "    gain = np.sqrt(2.0 / (1.0 + negative_slope ** 2))\n",
    "    if isinstance(m, torch.nn.Conv1d):\n",
    "        ksize = m.kernel_size[0]\n",
    "        n1 = m.in_channels\n",
    "        n2 = m.out_channels\n",
    "\n",
    "        std = gain * np.sqrt(2.0 / ((n1 + n2) * ksize))\n",
    "    elif isinstance(m, torch.nn.Conv2d):\n",
    "        ksize = m.kernel_size[0] * m.kernel_size[1]\n",
    "        n1 = m.in_channels\n",
    "        n2 = m.out_channels\n",
    "\n",
    "        std = gain * np.sqrt(2.0 / ((n1 + n2) * ksize))\n",
    "    elif isinstance(m, torch.nn.Conv3d):\n",
    "        ksize = m.kernel_size[0] * m.kernel_size[1] * m.kernel_size[2]\n",
    "        n1 = m.in_channels\n",
    "        n2 = m.out_channels\n",
    "\n",
    "        std = gain * np.sqrt(2.0 / ((n1 + n2) * ksize))\n",
    "    elif isinstance(m, torch.nn.ConvTranspose1d):\n",
    "        ksize = m.kernel_size[0] // 2\n",
    "        n1 = m.in_channels\n",
    "        n2 = m.out_channels\n",
    "\n",
    "        std = gain * np.sqrt(2.0 / ((n1 + n2) * ksize))\n",
    "    elif isinstance(m, torch.nn.ConvTranspose2d):\n",
    "        ksize = m.kernel_size[0] * m.kernel_size[1] // 4\n",
    "        n1 = m.in_channels\n",
    "        n2 = m.out_channels\n",
    "\n",
    "        std = gain * np.sqrt(2.0 / ((n1 + n2) * ksize))\n",
    "    elif isinstance(m, torch.nn.ConvTranspose3d):\n",
    "        ksize = m.kernel_size[0] * m.kernel_size[1] * m.kernel_size[2] // 8\n",
    "        n1 = m.in_channels\n",
    "        n2 = m.out_channels\n",
    "\n",
    "        std = gain * np.sqrt(2.0 / ((n1 + n2) * ksize))\n",
    "    elif isinstance(m, torch.nn.Linear):\n",
    "        n1 = m.in_features\n",
    "        n2 = m.out_features\n",
    "\n",
    "        std = gain * np.sqrt(2.0 / (n1 + n2))\n",
    "    else:\n",
    "        return\n",
    "\n",
    "    # is_wnw = is_weight_norm_wrapped(m)\n",
    "    # if is_wnw:\n",
    "    #     m.fuse()\n",
    "\n",
    "    m.weight.data.uniform_(-std * np.sqrt(3.0), std * np.sqrt(3.0))\n",
    "    if m.bias is not None:\n",
    "        m.bias.data.zero_()\n",
    "\n",
    "\n",
    "    # blockwise initialization for transposed convs\n",
    "    if isinstance(m, torch.nn.ConvTranspose2d):\n",
    "        # hardcoded for stride=2 for now\n",
    "        m.weight.data[:, :, 0::2, 1::2] = m.weight.data[:, :, 0::2, 0::2]\n",
    "        m.weight.data[:, :, 1::2, 0::2] = m.weight.data[:, :, 0::2, 0::2]\n",
    "        m.weight.data[:, :, 1::2, 1::2] = m.weight.data[:, :, 0::2, 0::2]\n",
    "\n",
    "    if isinstance(m, torch.nn.ConvTranspose3d):\n",
    "        # hardcoded for stride=2 for now\n",
    "        m.weight.data[:, :, 0::2, 0::2, 1::2] = m.weight.data[:, :, 0::2, 0::2, 0::2]\n",
    "        m.weight.data[:, :, 0::2, 1::2, 0::2] = m.weight.data[:, :, 0::2, 0::2, 0::2]\n",
    "        m.weight.data[:, :, 0::2, 1::2, 1::2] = m.weight.data[:, :, 0::2, 0::2, 0::2]\n",
    "        m.weight.data[:, :, 1::2, 0::2, 0::2] = m.weight.data[:, :, 0::2, 0::2, 0::2]\n",
    "        m.weight.data[:, :, 1::2, 0::2, 1::2] = m.weight.data[:, :, 0::2, 0::2, 0::2]\n",
    "        m.weight.data[:, :, 1::2, 1::2, 0::2] = m.weight.data[:, :, 0::2, 0::2, 0::2]\n",
    "        m.weight.data[:, :, 1::2, 1::2, 1::2] = m.weight.data[:, :, 0::2, 0::2, 0::2]\n",
    "\n",
    "    # if is_wnw:\n",
    "        # m.unfuse()\n",
    "\n",
    "def apply_weight_init_fn(m, fn, negative_slope=1.0):\n",
    "    should_initialize_weight=True\n",
    "    if not hasattr(m, \"weights_initialized\"): #if we don't have this then we need to intiialzie\n",
    "        # fn(m, is_linear, scale)\n",
    "        should_initialize_weight=True\n",
    "    elif m.weights_initialized==False: #if we have it but it's set to false\n",
    "        # fn(m, is_linear, scale)\n",
    "        should_initialize_weight=True\n",
    "    else:\n",
    "        print(\"skipping weight init on \", m)\n",
    "        should_initialize_weight=False\n",
    "\n",
    "    if should_initialize_weight:\n",
    "        # fn(m, is_linear, scale)\n",
    "        fn(m,negative_slope)\n",
    "        # m.weights_initialized=True\n",
    "        for module in m.children():\n",
    "            apply_weight_init_fn(module, fn, negative_slope)"
   ]
  },
  {
   "cell_type": "code",
   "execution_count": 4,
   "id": "e2e0c2c3",
   "metadata": {},
   "outputs": [],
   "source": [
    "def Normalize(in_channels):\n",
    "    return torch.nn.GroupNorm(num_groups=8, num_channels=in_channels, eps=1e-6, affine=True)"
   ]
  },
  {
   "cell_type": "code",
   "execution_count": 5,
   "id": "c657b7b5",
   "metadata": {},
   "outputs": [],
   "source": [
    "class ResNetBlock(nn.Module):\n",
    "    def __init__(self, in_channels, out_channels=None):\n",
    "        super().__init__()\n",
    "        self.in_channels = in_channels\n",
    "        out_channels = in_channels if out_channels is None else out_channels\n",
    "        self.out_channels = out_channels\n",
    "        \n",
    "        self.norm1 = Normalize(in_channels)\n",
    "        self.relu1 = nn.LeakyReLU()\n",
    "        self.relu2 = nn.LeakyReLU()\n",
    "        self.conv1 = torch.nn.Conv2d(in_channels, out_channels, kernel_size=3, stride=1, padding=1)\n",
    "        self.norm2 = Normalize(out_channels)\n",
    "        self.conv2 = torch.nn.Conv2d(out_channels,\n",
    "                                     out_channels,\n",
    "                                     kernel_size=3,\n",
    "                                     stride=1,\n",
    "                                     padding=1)\n",
    "        \n",
    "    def forward(self, x):\n",
    "        h = x\n",
    "        h = self.norm1(h)\n",
    "        h = self.relu1(h)\n",
    "        h = self.conv1(h)\n",
    "        h = self.norm2(h)\n",
    "        h = self.relu2(h)\n",
    "        h = self.conv2(h)\n",
    "        return x + h\n",
    "        "
   ]
  },
  {
   "cell_type": "code",
   "execution_count": 6,
   "id": "8d423406",
   "metadata": {},
   "outputs": [],
   "source": [
    "class AutoEncoder(nn.Module):\n",
    "    def __init__(self, n_channels=1, channels=[16,32,64], resnet_num=2):\n",
    "        super(AutoEncoder, self).__init__()\n",
    "        self.encoder = nn.Sequential(\n",
    "            nn.Conv2d(n_channels, channels[0], kernel_size=2, stride=1),\n",
    "            nn.LeakyReLU(True),\n",
    "            nn.Conv2d(channels[0], channels[1], kernel_size=3, stride=2, padding=1),\n",
    "            ResNetBlock(channels[1], channels[1]),\n",
    "            ResNetBlock(channels[1], channels[1]),\n",
    "            ResNetBlock(channels[1], channels[1]),\n",
    "            nn.LeakyReLU(True),\n",
    "            nn.Conv2d(channels[1], channels[2], kernel_size=3, stride=2, padding=1),\n",
    "            ResNetBlock(channels[2], channels[2]),\n",
    "            ResNetBlock(channels[2], channels[2]),\n",
    "            ResNetBlock(channels[2], channels[2])\n",
    "        )\n",
    "        self.decoder = nn.Sequential(\n",
    "            nn.ConvTranspose2d(channels[2], channels[0], kernel_size=2, stride=2),\n",
    "            ResNetBlock(channels[0], channels[0]),\n",
    "            ResNetBlock(channels[0], channels[0]),\n",
    "            ResNetBlock(channels[0], channels[0]),\n",
    "            nn.LeakyReLU(True),\n",
    "            nn.ConvTranspose2d(channels[0], n_channels, kernel_size=2, stride=2),\n",
    "            nn.Tanh()\n",
    "        )\n",
    "        \n",
    "        \n",
    "        \n",
    "        apply_weight_init_fn(self, leaky_relu_init, negative_slope=0.0)\n",
    "        \n",
    "        \n",
    "    def forward(self, x):\n",
    "        x = self.encoder(x)\n",
    "        x = self.decoder(x)\n",
    "        return x\n",
    "    "
   ]
  },
  {
   "cell_type": "code",
   "execution_count": 7,
   "id": "b094270d",
   "metadata": {},
   "outputs": [
    {
     "name": "stdout",
     "output_type": "stream",
     "text": [
      "torch.Size([1, 1, 28, 28])\n"
     ]
    }
   ],
   "source": [
    "input_s = torch.randn((1,1,28,28)).to(device)\n",
    "model = AutoEncoder().to(device)\n",
    "output = model(input_s)\n",
    "print(output.shape)"
   ]
  },
  {
   "cell_type": "code",
   "execution_count": 8,
   "id": "5da37ea4",
   "metadata": {},
   "outputs": [
    {
     "name": "stdout",
     "output_type": "stream",
     "text": [
      "torch.Size([1, 64, 7, 7])\n"
     ]
    }
   ],
   "source": [
    "input2 = torch.randn((1,1,28,28)).to(device)\n",
    "end_output = model.encoder(input2)\n",
    "print(end_output.shape)"
   ]
  },
  {
   "cell_type": "code",
   "execution_count": 9,
   "id": "94af95b0",
   "metadata": {},
   "outputs": [
    {
     "name": "stdout",
     "output_type": "stream",
     "text": [
      "torch.Size([1, 1, 28, 28])\n"
     ]
    }
   ],
   "source": [
    "de_output= model.decoder(end_output)\n",
    "print(de_output.shape)"
   ]
  },
  {
   "cell_type": "code",
   "execution_count": 10,
   "id": "b44f8eaa",
   "metadata": {},
   "outputs": [],
   "source": [
    "learning_rate = 0.001\n",
    "criterion = torch.nn.MSELoss()\n",
    "optimizer = torch.optim.Adam(model.parameters(), lr=learning_rate, weight_decay = 0.001)\n",
    "scheduler = torch.optim.lr_scheduler.ReduceLROnPlateau(optimizer, factor=0.5, patience=5, verbose=True)"
   ]
  },
  {
   "cell_type": "code",
   "execution_count": 11,
   "id": "f4ca8b75",
   "metadata": {},
   "outputs": [],
   "source": [
    "from torch.nn.functional import mse_loss as mse\n",
    "def psnr_rate(input, target):\n",
    "    return 10.0 * torch.log10(1 / mse(input, target, reduction='mean'))"
   ]
  },
  {
   "cell_type": "code",
   "execution_count": 86,
   "id": "7635bbb9",
   "metadata": {},
   "outputs": [],
   "source": [
    "def evaluate_autoenc(net, dataloader, device):\n",
    "    net.eval()\n",
    "    num_val_batches = len(dataloader)\n",
    "    \n",
    "\n",
    "    \n",
    "    progress_bar = tqdm(dataloader, total=num_val_batches, desc='Validation round', unit='batch', leave=False)\n",
    "    for batch in progress_bar:\n",
    "        image, mask_true = batch[0], batch[1]\n",
    "\n",
    "            # move images and labels to correct device and type\n",
    "        image = image.to(dtype=torch.float32, memory_format=torch.channels_last).to(device)\n",
    "        \n",
    "        mask_pred = net(image).to(device)\n",
    "        psnr = psnr_rate(mask_pred, image)\n",
    "        print(psnr)\n",
    "        \n",
    "        loss = criterion(mask_pred, image)\n",
    "        \n",
    "        \n",
    "\n",
    "\n",
    "    net.train()\n",
    "    return "
   ]
  },
  {
   "cell_type": "code",
   "execution_count": 13,
   "id": "7e40188e",
   "metadata": {},
   "outputs": [],
   "source": [
    "def normal_kl(mean1, logvar1, mean2, logvar2):\n",
    "    \"\"\"\n",
    "    source: https://github.com/openai/guided-diffusion/blob/27c20a8fab9cb472df5d6bdd6c8d11c8f430b924/guided_diffusion/losses.py#L12\n",
    "    Compute the KL divergence between two gaussians.\n",
    "    Shapes are automatically broadcasted, so batches can be compared to\n",
    "    scalars, among other use cases.\n",
    "    \"\"\"\n",
    "    tensor = None\n",
    "    for obj in (mean1, logvar1, mean2, logvar2):\n",
    "        if isinstance(obj, torch.Tensor):\n",
    "            tensor = obj\n",
    "            break\n",
    "    assert tensor is not None, \"at least one argument must be a Tensor\"\n",
    "\n",
    "    # Force variances to be Tensors. Broadcasting helps convert scalars to\n",
    "    # Tensors, but it does not work for torch.exp().\n",
    "    logvar1, logvar2 = [\n",
    "        x if isinstance(x, torch.Tensor) else torch.tensor(x).to(tensor)\n",
    "        for x in (logvar1, logvar2)\n",
    "    ]\n",
    "\n",
    "    return 0.5 * (\n",
    "        -1.0\n",
    "        + logvar2\n",
    "        - logvar1\n",
    "        + torch.exp(logvar1 - logvar2)\n",
    "        + ((mean1 - mean2) ** 2) * torch.exp(-logvar2)\n",
    "    )"
   ]
  },
  {
   "cell_type": "code",
   "execution_count": 14,
   "id": "806bcb46",
   "metadata": {},
   "outputs": [],
   "source": [
    "def train_model_autoenc(\n",
    "        model,\n",
    "        device,\n",
    "        epochs: int = 200,\n",
    "        learning_rate: float = 1e-2,\n",
    "        val_percent: float = 0.1,\n",
    "        img_scale: float = 0.5,\n",
    "        weight_decay: float = 1e-8,\n",
    "        gradient_clipping: float = 1.0,\n",
    "):\n",
    "    \n",
    "    min_loss = 1e25\n",
    "    progress_bar = tqdm(range(epochs), total=epochs, position=0, leave=True)\n",
    "    for epoch in progress_bar:\n",
    "        mean_epoch_loss = []\n",
    "        model.train()\n",
    "        running_loss = 0.0\n",
    "        for i, data in enumerate(trainloader):\n",
    "            image, mask_true = [t.to(device) for t in data]\n",
    "            progress_bar.set_postfix({f'T of {[len(trainloader)]}' : i+1, 'Best loss': min_loss}, refresh=True)\n",
    "            optimizer.zero_grad()\n",
    "                # move images and labels to correct device and type\n",
    "            image = image.to(dtype=torch.float32, memory_format=torch.channels_last)\n",
    "\n",
    "            mask_pred = model(image).to(device)\n",
    "            batch_mean = torch.mean(image)\n",
    "            batch_var = torch.var(image)\n",
    "            loss = criterion(mask_pred, image) + normal_kl(batch_mean,batch_var,0,0)\n",
    "            mean_epoch_loss.append(loss.item())\n",
    "\n",
    "            loss.backward()\n",
    "            optimizer.step()\n",
    "            \n",
    "            \n",
    "            running_loss += loss.item()\n",
    "        \n",
    "        loss_mean = np.mean(mean_epoch_loss)\n",
    "        # scheduler on loss_mean with patience 10 with more aggressive learning rate\n",
    "        scheduler.step(loss_mean)\n",
    "        if loss_mean < min_loss:\n",
    "            min_loss = loss_mean\n",
    "            #torch.save(model, 'autoencoder7x7.pt')\n",
    "        if epoch%40==0:\n",
    "            print('---')\n",
    "            print(f\"Epoch: {epoch} | Train Loss: {loss_mean} | Best Loss: {min_loss}\")\n",
    "\n",
    "                "
   ]
  },
  {
   "cell_type": "code",
   "execution_count": 15,
   "id": "b0fd86cd",
   "metadata": {},
   "outputs": [
    {
     "name": "stderr",
     "output_type": "stream",
     "text": [
      "  0%|▋                                                                                                                                              | 1/200 [00:04<15:57,  4.81s/it, T of [30]=30, Best loss=1e+25]"
     ]
    },
    {
     "name": "stdout",
     "output_type": "stream",
     "text": [
      "---\n",
      "Epoch: 0 | Train Loss: 1.0044906218846639 | Best Loss: 1.0044906218846639\n"
     ]
    },
    {
     "name": "stderr",
     "output_type": "stream",
     "text": [
      "  6%|████████▌                                                                                                                                     | 12/200 [00:58<15:25,  4.92s/it, T of [30]=30, Best loss=0.991]"
     ]
    },
    {
     "name": "stdout",
     "output_type": "stream",
     "text": [
      "Epoch 00012: reducing learning rate of group 0 to 5.0000e-04.\n"
     ]
    },
    {
     "name": "stderr",
     "output_type": "stream",
     "text": [
      "  9%|████████████▊                                                                                                                                 | 18/200 [01:28<14:48,  4.88s/it, T of [30]=30, Best loss=0.991]"
     ]
    },
    {
     "name": "stdout",
     "output_type": "stream",
     "text": [
      "Epoch 00018: reducing learning rate of group 0 to 2.5000e-04.\n"
     ]
    },
    {
     "name": "stderr",
     "output_type": "stream",
     "text": [
      " 12%|█████████████████                                                                                                                             | 24/200 [01:57<14:12,  4.84s/it, T of [30]=30, Best loss=0.991]"
     ]
    },
    {
     "name": "stdout",
     "output_type": "stream",
     "text": [
      "Epoch 00024: reducing learning rate of group 0 to 1.2500e-04.\n"
     ]
    },
    {
     "name": "stderr",
     "output_type": "stream",
     "text": [
      " 15%|█████████████████████▎                                                                                                                        | 30/200 [02:26<13:52,  4.89s/it, T of [30]=30, Best loss=0.991]"
     ]
    },
    {
     "name": "stdout",
     "output_type": "stream",
     "text": [
      "Epoch 00030: reducing learning rate of group 0 to 6.2500e-05.\n"
     ]
    },
    {
     "name": "stderr",
     "output_type": "stream",
     "text": [
      " 18%|█████████████████████████▌                                                                                                                    | 36/200 [02:56<13:28,  4.93s/it, T of [30]=30, Best loss=0.991]"
     ]
    },
    {
     "name": "stdout",
     "output_type": "stream",
     "text": [
      "Epoch 00036: reducing learning rate of group 0 to 3.1250e-05.\n"
     ]
    },
    {
     "name": "stderr",
     "output_type": "stream",
     "text": [
      " 20%|█████████████████████████████                                                                                                                 | 41/200 [03:20<12:57,  4.89s/it, T of [30]=30, Best loss=0.278]"
     ]
    },
    {
     "name": "stdout",
     "output_type": "stream",
     "text": [
      "---\n",
      "Epoch: 40 | Train Loss: 0.26321352223555244 | Best Loss: 0.26321352223555244\n"
     ]
    },
    {
     "name": "stderr",
     "output_type": "stream",
     "text": [
      " 40%|█████████████████████████████████████████████████████████▌                                                                                    | 81/200 [06:35<09:38,  4.86s/it, T of [30]=30, Best loss=0.193]"
     ]
    },
    {
     "name": "stdout",
     "output_type": "stream",
     "text": [
      "---\n",
      "Epoch: 80 | Train Loss: 0.19258397022883098 | Best Loss: 0.19258397022883098\n"
     ]
    },
    {
     "name": "stderr",
     "output_type": "stream",
     "text": [
      " 60%|█████████████████████████████████████████████████████████████████████████████████████▎                                                       | 121/200 [09:49<06:24,  4.86s/it, T of [30]=30, Best loss=0.179]"
     ]
    },
    {
     "name": "stdout",
     "output_type": "stream",
     "text": [
      "---\n",
      "Epoch: 120 | Train Loss: 0.1785946826140086 | Best Loss: 0.1785946826140086\n"
     ]
    },
    {
     "name": "stderr",
     "output_type": "stream",
     "text": [
      " 80%|█████████████████████████████████████████████████████████████████████████████████████████████████████████████████▌                           | 161/200 [13:03<03:05,  4.77s/it, T of [30]=30, Best loss=0.175]"
     ]
    },
    {
     "name": "stdout",
     "output_type": "stream",
     "text": [
      "---\n",
      "Epoch: 160 | Train Loss: 0.17458076824744542 | Best Loss: 0.17458076824744542\n"
     ]
    },
    {
     "name": "stderr",
     "output_type": "stream",
     "text": [
      "100%|█████████████████████████████████████████████████████████████████████████████████████████████████████████████████████████████████████████████| 200/200 [16:12<00:00,  4.86s/it, T of [30]=30, Best loss=0.172]\n"
     ]
    }
   ],
   "source": [
    "train_model_autoenc(model, device)"
   ]
  },
  {
   "cell_type": "code",
   "execution_count": null,
   "id": "1c60be43",
   "metadata": {},
   "outputs": [],
   "source": []
  },
  {
   "cell_type": "code",
   "execution_count": 84,
   "id": "1948e776",
   "metadata": {},
   "outputs": [],
   "source": [
    "autoencoder = torch.load('autoencoder3x3.pt')\n",
    "autoencoder.to(device)\n",
    "autoencoder.requires_grad_(requires_grad=False)\n",
    "dataiter = iter(valloader)\n",
    "i, data = next(dataiter)"
   ]
  },
  {
   "cell_type": "code",
   "execution_count": 87,
   "id": "8dc46596",
   "metadata": {},
   "outputs": [
    {
     "name": "stderr",
     "output_type": "stream",
     "text": [
      "Validation round:  20%|███████████████████████████████                                                                                                                            | 1/5 [00:00<00:01,  2.08batch/s]"
     ]
    },
    {
     "name": "stdout",
     "output_type": "stream",
     "text": [
      "tensor(22.3408, device='cuda:0')\n",
      "tensor(22.1708, device='cuda:0')\n"
     ]
    },
    {
     "name": "stderr",
     "output_type": "stream",
     "text": [
      "\r",
      "Validation round:  60%|█████████████████████████████████████████████████████████████████████████████████████████████                                                              | 3/5 [00:00<00:00,  4.65batch/s]"
     ]
    },
    {
     "name": "stdout",
     "output_type": "stream",
     "text": [
      "tensor(22.1737, device='cuda:0')\n",
      "tensor(22.2319, device='cuda:0')\n"
     ]
    },
    {
     "name": "stderr",
     "output_type": "stream",
     "text": [
      "                                                                                                                                                                                                                   "
     ]
    },
    {
     "name": "stdout",
     "output_type": "stream",
     "text": [
      "tensor(22.1105, device='cuda:0')\n"
     ]
    },
    {
     "name": "stderr",
     "output_type": "stream",
     "text": [
      "\r"
     ]
    }
   ],
   "source": [
    "evaluate_autoenc(autoencoder, valloader, device)"
   ]
  },
  {
   "cell_type": "code",
   "execution_count": 79,
   "id": "2cf60ac1",
   "metadata": {},
   "outputs": [],
   "source": [
    "output = autoencoder(i.to(device)).to(device)"
   ]
  },
  {
   "cell_type": "code",
   "execution_count": 80,
   "id": "4551cf77",
   "metadata": {},
   "outputs": [
    {
     "data": {
      "image/png": "[encoded data removed]",
      "text/plain": [
       "<Figure size 640x480 with 1 Axes>"
      ]
     },
     "metadata": {},
     "output_type": "display_data"
    },
    {
     "data": {
      "image/png": "[encoded data removed]",
      "text/plain": [
       "<Figure size 640x480 with 1 Axes>"
      ]
     },
     "metadata": {},
     "output_type": "display_data"
    }
   ],
   "source": [
    "plt.imshow(i[0,0].cpu().detach().numpy(), cmap=\"gray\")\n",
    "plt.show()\n",
    "\n",
    "plt.imshow(output[0,0].cpu().detach().numpy(), cmap=\"gray\")\n",
    "plt.show()"
   ]
  },
  {
   "cell_type": "code",
   "execution_count": 42,
   "id": "602f2ad7",
   "metadata": {},
   "outputs": [],
   "source": [
    "# Function to add Gaussian noise to an image tensor\n",
    "def add_gaussian_noise(image, mean=0., std=1.):\n",
    "    eps = torch.empty_like(image).normal_(mean=0,std=1)\n",
    "    noise = eps * std + mean\n",
    "    # beta*eps + sqrt(1-beta)*image+std # (1-beta).sqrt()*image + beta*eps\n",
    "    # Clip the values to be between 0 and 1\n",
    "    # noisy_image = normalize_image(noisy_image)\n",
    "    return noise, eps"
   ]
  },
  {
   "cell_type": "code",
   "execution_count": 43,
   "id": "4e798353",
   "metadata": {},
   "outputs": [],
   "source": [
    "def create_linear_schedule(steps, start, end):\n",
    "    step_size = (end - start) / (steps - 1)  \n",
    "    linear_schedule = []\n",
    "    for i in range(steps):\n",
    "        linear_schedule.append(start + i * step_size)\n",
    "    return linear_schedule\n",
    "\n"
   ]
  },
  {
   "cell_type": "code",
   "execution_count": 44,
   "id": "49d9d742",
   "metadata": {},
   "outputs": [],
   "source": [
    "def berechne_alpha_quer_x_forward_steps(anzahl_steps):\n",
    "    scheduler = create_linear_schedule(anzahl_steps, 0.0001, 0.02)\n",
    "    alphas = 1 - np.array(scheduler)\n",
    "    alphas_quer = []\n",
    "    for i in range(len(alphas)):\n",
    "        alphas_quer.append(np.prod(alphas[:i + 1]))\n",
    "    return alphas_quer"
   ]
  },
  {
   "cell_type": "code",
   "execution_count": 45,
   "id": "ddbb8d74",
   "metadata": {},
   "outputs": [],
   "source": [
    "def x_forward_steps(curr_image, alpha_quer):\n",
    "    alpha_quer = torch.tensor(alpha_quer, dtype=torch.float32).to(device)  # 'device' is your CUDA device\n",
    "    std = torch.sqrt(1 - alpha_quer)\n",
    "    mean = torch.sqrt(alpha_quer) * curr_image\n",
    "    new_image, eps = add_gaussian_noise(curr_image,mean=mean,std=std)\n",
    "    return new_image, eps"
   ]
  },
  {
   "cell_type": "code",
   "execution_count": 46,
   "id": "51324947",
   "metadata": {},
   "outputs": [],
   "source": [
    "def mache_noise_direkt_random(batch_images, total_steps=1000, device=device):\n",
    "    # Verschieben Sie den Batch auf die GPU\n",
    "    batch_images = batch_images.to(device)\n",
    "    \n",
    "    # Annahme: batch_images hat die Form [batch_size, channels, height, width]\n",
    "    batch_size = batch_images.size(0)\n",
    "    \n",
    "    alpha_quer_list = berechne_alpha_quer_x_forward_steps(total_steps)\n",
    "    alpha_quer = torch.tensor(alpha_quer_list, device=device)\n",
    "\n",
    "    noisy_batch = []\n",
    "    epsilons = []\n",
    "    anzahl_steps_array = np.empty(batch_size)\n",
    "    # for loop vernichten\n",
    "    for i in range(batch_size):\n",
    "        anzahl_steps = np.random.randint(total_steps)\n",
    "        anzahl_steps_array[i] = anzahl_steps\n",
    "        \n",
    "        image = batch_images[i]\n",
    "        noisy_image, eps = x_forward_steps(image.unsqueeze(0).to(device), alpha_quer[anzahl_steps-1])  # Verschieben auf die GPU\n",
    "        \n",
    "        noisy_batch.append(noisy_image)\n",
    "        epsilons.append(eps)\n",
    "    \n",
    "    noisy_batch_tensor = torch.cat(noisy_batch, dim=0).to(device)  # Verschieben auf die GPU\n",
    "    epsilons_tensor = torch.cat(epsilons, dim=0).to(device)  # Verschieben auf die GPU\n",
    "    \n",
    "    return noisy_batch_tensor, epsilons_tensor, anzahl_steps_array\n"
   ]
  },
  {
   "cell_type": "code",
   "execution_count": 47,
   "id": "034e94d8",
   "metadata": {},
   "outputs": [],
   "source": [
    "import torch.nn as nn\n",
    "\n",
    "class DoubleConv(nn.Module):\n",
    "    \"\"\"(convolution => [BN] => ReLU) * 2\"\"\"\n",
    "\n",
    "    def __init__(self, in_channels, out_channels, mid_channels=None):\n",
    "        super().__init__()\n",
    "        if not mid_channels:\n",
    "            mid_channels = out_channels\n",
    "        self.double_conv = nn.Sequential(\n",
    "            nn.Conv2d(in_channels, mid_channels, kernel_size=3, padding=1, bias=False),\n",
    "            nn.BatchNorm2d(mid_channels),\n",
    "            nn.LeakyReLU(inplace=True),\n",
    "            nn.Conv2d(mid_channels, out_channels, kernel_size=3, padding=1, bias=False),\n",
    "            nn.BatchNorm2d(out_channels),\n",
    "            nn.LeakyReLU(inplace=True)\n",
    "            \n",
    "        )\n",
    "\n",
    "    def forward(self, x):\n",
    "        return self.double_conv(x)\n"
   ]
  },
  {
   "cell_type": "code",
   "execution_count": 48,
   "id": "e24b9649",
   "metadata": {},
   "outputs": [],
   "source": [
    "class Down(nn.Module):\n",
    "    \"\"\"Downscaling with maxpool then double conv\"\"\"\n",
    "\n",
    "    def __init__(self, in_channels, out_channels):\n",
    "        super().__init__()\n",
    "        self.maxpool_conv = nn.Sequential(\n",
    "            #nn.MaxPool2d(2),\n",
    "            nn.Conv2d(in_channels, in_channels, kernel_size=3, stride=2, padding=1, bias=False),\n",
    "            nn.BatchNorm2d(in_channels),\n",
    "            nn.LeakyReLU(inplace=True),\n",
    "            DoubleConv(in_channels, out_channels)\n",
    "        )\n",
    "\n",
    "    def forward(self, x):\n",
    "        return self.maxpool_conv(x)"
   ]
  },
  {
   "cell_type": "code",
   "execution_count": 49,
   "id": "4a615ebc",
   "metadata": {},
   "outputs": [],
   "source": [
    "# Comments inspired from https://distill.pub/2016/deconv-checkerboard/\n",
    "\n",
    "#Stride 1 deconvolutions — which we often see as the last layer in successful models \n",
    "#(eg. [2])  — are quite effective at dampening artifacts. \n",
    "#In particular, deconvolution has uneven overlap when the kernel size \n",
    "#(the output window size) is not divisible by the stride (the spacing between points on the top).\n",
    "\n",
    "class Up(nn.Module):\n",
    "    \"\"\"Upscaling then double conv\"\"\"\n",
    "\n",
    "    def __init__(self, in_channels, out_channels):\n",
    "        super().__init__()\n",
    "\n",
    "        \n",
    "        self.up = nn.Sequential(\n",
    "            nn.ConvTranspose2d(in_channels, out_channels, kernel_size=4, stride=2, padding=1, bias=False),\n",
    "            nn.BatchNorm2d(out_channels),\n",
    "            nn.LeakyReLU(inplace=True))\n",
    "        self.conv = DoubleConv(in_channels, out_channels, in_channels // 2)\n",
    "\n",
    "    def forward(self, x1, x2):\n",
    "        x1 = self.up(x1)\n",
    "        # input is CHW\n",
    "        #Diese Zeilen berechnen die Größenunterschiede\n",
    "        #in den Höhen- und Breitenrichtungen zwischen x2 und dem upgesampleten x1.\n",
    "        diffY = x2.size()[2] - x1.size()[2]\n",
    "        diffX = x2.size()[3] - x1.size()[3]\n",
    "        \n",
    "        #Diese Zeile fügt x1 an den Rändern Polster hinzu, \n",
    "        #sodass es die gleiche räumliche Größe wie x2 hat. Das \n",
    "        #Padding sorgt dafür, dass die beiden Feature-Maps aneinander angehängt werden können.\n",
    "\n",
    "        x1 = F.pad(x1, [diffX // 2, diffX - diffX // 2,\n",
    "                        diffY // 2, diffY - diffY // 2])\n",
    "        x = torch.cat([x2, x1], dim=1)\n",
    "        return self.conv(x)"
   ]
  },
  {
   "cell_type": "code",
   "execution_count": 50,
   "id": "103c7772",
   "metadata": {},
   "outputs": [],
   "source": [
    "class OutConv(nn.Module):\n",
    "    def __init__(self, in_channels, out_channels):\n",
    "        super(OutConv, self).__init__()\n",
    "        self.conv = nn.Conv2d(in_channels, out_channels, kernel_size=1)\n",
    "\n",
    "    def forward(self, x):\n",
    "        return self.conv(x)"
   ]
  },
  {
   "cell_type": "code",
   "execution_count": 51,
   "id": "a49ee844",
   "metadata": {},
   "outputs": [],
   "source": [
    "def concat_pos_param(x, enc):\n",
    "    if x.shape[0] == 1:\n",
    "        pos_enc_reshape = enc[None,:,None,None].expand((-1,-1,x.shape[-2],x.shape[-1]))\n",
    "        feature_map_with_encoding = torch.cat([x.to(device), pos_enc_reshape.to(device)], dim=1)\n",
    "    else: \n",
    "        pos_enc_reshape = enc[:,:,None,None].expand((-1,-1,x.shape[-2],x.shape[-1]))\n",
    "        feature_map_with_encoding = torch.cat([x.to(device), pos_enc_reshape.to(device)], dim=1)\n",
    "    return feature_map_with_encoding"
   ]
  },
  {
   "cell_type": "code",
   "execution_count": 52,
   "id": "ac08e179",
   "metadata": {},
   "outputs": [],
   "source": [
    "def get_sinusoid_encoding_table(n_position, d_hid):\n",
    "    ''' Sinusoid position encoding table '''\n",
    "\n",
    "    def get_position_angle_vec(position):\n",
    "        return [position / np.power(10000, 2 * (hid_j // 2) / d_hid) for hid_j in range(d_hid)]\n",
    "\n",
    "    sinusoid_table = np.array([get_position_angle_vec(pos_i) for pos_i in range(n_position)])\n",
    "    sinusoid_table[:, 0::2] = np.sin(sinusoid_table[:, 0::2])  # dim 2i\n",
    "    sinusoid_table[:, 1::2] = np.cos(sinusoid_table[:, 1::2])  # dim 2i+1\n",
    "\n",
    "    return torch.FloatTensor(sinusoid_table)#.unsqueeze(0)"
   ]
  },
  {
   "cell_type": "code",
   "execution_count": 30,
   "id": "fcef016e",
   "metadata": {},
   "outputs": [],
   "source": [
    "class UNet(nn.Module):\n",
    "    def __init__(self, n_channels, t_max=1000, d_hid=32, channels=[64,128,256,512,1024,2048]):\n",
    "        super(UNet, self).__init__()\n",
    "        assert len(channels) == 6\n",
    "        self.n_channels = n_channels\n",
    "        \n",
    "        factor = 2\n",
    "        self.pos_enc = nn.parameter.Parameter(get_sinusoid_encoding_table(t_max, d_hid), requires_grad=False)\n",
    "        #self.pos_enc.requires_grad = False \n",
    "        self.inc = (DoubleConv(n_channels + d_hid, channels[0]))\n",
    "        self.down1 = (Down(channels[0] + d_hid, channels[1]))\n",
    "        self.down2 = (Down(channels[1] + d_hid, channels[2]))\n",
    "        self.down3 = (Down(channels[2] + d_hid, channels[3]))\n",
    "        self.up3 = (Up(channels[-3], channels[-4]))\n",
    "        self.up4 = (Up(channels[-4], channels[-5]))\n",
    "        self.up5 = (Up(channels[-5], channels[-6]))\n",
    "        self.outc = (OutConv(channels[-6], n_channels))\n",
    "        apply_weight_init_fn(self, leaky_relu_init, negative_slope=0.0)\n",
    "\n",
    "    def forward(self, x, t):\n",
    "        enc = self.pos_enc[t]\n",
    "        #enc_reshape = enc[:,:,None,None].expand((-1,-1,x.shape[-2],x.shape[-1]))\n",
    "        #enc = self.pos_enc[t]\n",
    "        #print(torch.cat([x, enc_reshape],dim=1).shape)\n",
    "        x1 = self.inc(concat_pos_param(x,enc))\n",
    "        x2 = self.down1(concat_pos_param(x1, enc))\n",
    "        x3 = self.down2(concat_pos_param(x2, enc))\n",
    "        x4 = self.down3(concat_pos_param(x3, enc))\n",
    "        #x7 = self.bottleneck(x7)\n",
    "        #x4 = self.down3(x3)\n",
    "        #x5 = self.down4(x4)\n",
    "        #x = self.up1(x5, x4)\n",
    "        \n",
    "        x = self.up3(x4, x3)\n",
    "        x = self.up4(x, x2)\n",
    "        x = self.up5(x, x1)\n",
    "        logits = self.outc(x)\n",
    "        return logits\n",
    "    "
   ]
  },
  {
   "cell_type": "code",
   "execution_count": 31,
   "id": "a13dfada",
   "metadata": {},
   "outputs": [],
   "source": [
    "unet = UNet(64).to(device)\n",
    "\n",
    "learning_rate = 0.002\n",
    "criterion = torch.nn.MSELoss()\n",
    "optimizer = torch.optim.Adam(unet.parameters(), lr=learning_rate, weight_decay = 0.001)\n",
    "scheduler = torch.optim.lr_scheduler.ReduceLROnPlateau(optimizer, factor=0.5, patience=10, verbose=True)\n",
    "\n",
    "def evaluate(net, dataloader, device):\n",
    "    net.eval()\n",
    "    num_val_batches = len(dataloader)\n",
    "    \n",
    "\n",
    "    \n",
    "    progress_bar = tqdm(dataloader, total=num_val_batches, desc='Validation round', unit='batch', leave=False)\n",
    "    for batch in progress_bar:\n",
    "        image, mask_true = batch[0], batch[1]\n",
    "\n",
    "            # move images and labels to correct device and type\n",
    "        image = image.to(dtype=torch.float32, memory_format=torch.channels_last).cpu()\n",
    "        image = autoencoder.encoder(image)\n",
    "        noisy_image, eps, anzahl_schritte = mache_noise_direkt_random(image)\n",
    "        mask_true = mask_true.to(dtype=torch.long)\n",
    "        \n",
    "        mask_pred = net(noisy_image, anzahl_schritte).to(device)\n",
    "        \n",
    "        loss = criterion(mask_pred, eps)\n",
    "        \n",
    "        \n",
    "\n",
    "\n",
    "    net.train()\n",
    "    return "
   ]
  },
  {
   "cell_type": "code",
   "execution_count": 32,
   "id": "eb8f77d7",
   "metadata": {},
   "outputs": [],
   "source": [
    "def train_model_unet(\n",
    "        model,\n",
    "        device,\n",
    "        epochs: int = 40,\n",
    "        learning_rate: float = 1e-2,\n",
    "        val_percent: float = 0.1,\n",
    "        img_scale: float = 0.5,\n",
    "        weight_decay: float = 1e-8,\n",
    "        gradient_clipping: float = 1.0,\n",
    "):\n",
    "    \n",
    "    min_loss = 1e25\n",
    "    progress_bar = tqdm(range(epochs), total=epochs, position=0, leave=True)\n",
    "    for epoch in progress_bar:\n",
    "        mean_epoch_loss = []\n",
    "        model.train()\n",
    "        running_loss = 0.0\n",
    "        for i, data in enumerate(trainloader):\n",
    "            image, mask_true = [t.to(device) for t in data]\n",
    "            progress_bar.set_postfix({f'T of {[len(trainloader)]}' : i+1, 'Best loss': min_loss}, refresh=True)\n",
    "            optimizer.zero_grad()\n",
    "                # move images and labels to correct device and type\n",
    "            image = image.to(dtype=torch.float32, memory_format=torch.channels_last)\n",
    "            image = autoencoder.encoder(image)\n",
    "            noisy_image, eps, anzahl_schritte = mache_noise_direkt_random(image)\n",
    "            mask_true = mask_true.to(dtype=torch.long)\n",
    "\n",
    "            mask_pred = model(noisy_image, anzahl_schritte).to(device)\n",
    "\n",
    "            loss = criterion(mask_pred, eps)\n",
    "            mean_epoch_loss.append(loss.item())\n",
    "\n",
    "            loss.backward()\n",
    "            optimizer.step()\n",
    "            \n",
    "            \n",
    "            running_loss += loss.item()\n",
    "        \n",
    "        loss_mean = np.mean(mean_epoch_loss)\n",
    "        # scheduler on loss_mean with patience 10 with more aggressive learning rate\n",
    "        scheduler.step(loss_mean)\n",
    "        if loss_mean < min_loss:\n",
    "            min_loss = loss_mean\n",
    "            #torch.save(model, 'fmnist_model_latent.pt')\n",
    "        if epoch%5==0:\n",
    "            print('---')\n",
    "            print(f\"Epoch: {epoch} | Train Loss: {loss_mean} | Best Loss: {min_loss}\")\n",
    "\n",
    "                \n",
    "    #evaluate(model, valloader, device) \n"
   ]
  },
  {
   "cell_type": "code",
   "execution_count": 33,
   "id": "78d06360",
   "metadata": {},
   "outputs": [
    {
     "name": "stderr",
     "output_type": "stream",
     "text": [
      "  0%|                                                                                                                                                         | 0/40 [00:00<?, ?it/s, T of [30]=1, Best loss=1e+25]/tmp/ipykernel_265103/1524519049.py:2: UserWarning: To copy construct from a tensor, it is recommended to use sourceTensor.clone().detach() or sourceTensor.clone().detach().requires_grad_(True), rather than torch.tensor(sourceTensor).\n",
      "  alpha_quer = torch.tensor(alpha_quer, dtype=torch.float32).to(device)  # 'device' is your CUDA device\n",
      "  2%|███▌                                                                                                                                            | 1/40 [00:08<05:30,  8.48s/it, T of [30]=30, Best loss=1e+25]"
     ]
    },
    {
     "name": "stdout",
     "output_type": "stream",
     "text": [
      "---\n",
      "Epoch: 0 | Train Loss: 1.1088049372037252 | Best Loss: 1.1088049372037252\n"
     ]
    },
    {
     "name": "stderr",
     "output_type": "stream",
     "text": [
      " 15%|█████████████████████▌                                                                                                                          | 6/40 [00:49<04:37,  8.17s/it, T of [30]=30, Best loss=0.689]"
     ]
    },
    {
     "name": "stdout",
     "output_type": "stream",
     "text": [
      "---\n",
      "Epoch: 5 | Train Loss: 0.6335643390814464 | Best Loss: 0.6335643390814464\n"
     ]
    },
    {
     "name": "stderr",
     "output_type": "stream",
     "text": [
      " 28%|███████████████████████████████████████▎                                                                                                       | 11/40 [01:30<03:56,  8.17s/it, T of [30]=30, Best loss=0.487]"
     ]
    },
    {
     "name": "stdout",
     "output_type": "stream",
     "text": [
      "---\n",
      "Epoch: 10 | Train Loss: 0.47229868868986763 | Best Loss: 0.47229868868986763\n"
     ]
    },
    {
     "name": "stderr",
     "output_type": "stream",
     "text": [
      " 40%|█████████████████████████████████████████████████████████▏                                                                                     | 16/40 [02:12<03:21,  8.39s/it, T of [30]=30, Best loss=0.431]"
     ]
    },
    {
     "name": "stdout",
     "output_type": "stream",
     "text": [
      "---\n",
      "Epoch: 15 | Train Loss: 0.4263543983300527 | Best Loss: 0.4263543983300527\n"
     ]
    },
    {
     "name": "stderr",
     "output_type": "stream",
     "text": [
      " 52%|███████████████████████████████████████████████████████████████████████████                                                                    | 21/40 [02:54<02:38,  8.34s/it, T of [30]=30, Best loss=0.414]"
     ]
    },
    {
     "name": "stdout",
     "output_type": "stream",
     "text": [
      "---\n",
      "Epoch: 20 | Train Loss: 0.41097674568494164 | Best Loss: 0.41097674568494164\n"
     ]
    },
    {
     "name": "stderr",
     "output_type": "stream",
     "text": [
      " 65%|████████████████████████████████████████████████████████████████████████████████████████████▉                                                  | 26/40 [03:35<01:55,  8.23s/it, T of [30]=30, Best loss=0.408]"
     ]
    },
    {
     "name": "stdout",
     "output_type": "stream",
     "text": [
      "---\n",
      "Epoch: 25 | Train Loss: 0.4031215399503708 | Best Loss: 0.4031215399503708\n"
     ]
    },
    {
     "name": "stderr",
     "output_type": "stream",
     "text": [
      " 78%|██████████████████████████████████████████████████████████████████████████████████████████████████████████████▊                                | 31/40 [04:16<01:13,  8.15s/it, T of [30]=30, Best loss=0.399]"
     ]
    },
    {
     "name": "stdout",
     "output_type": "stream",
     "text": [
      "---\n",
      "Epoch: 30 | Train Loss: 0.39674555957317353 | Best Loss: 0.39674555957317353\n"
     ]
    },
    {
     "name": "stderr",
     "output_type": "stream",
     "text": [
      " 90%|████████████████████████████████████████████████████████████████████████████████████████████████████████████████████████████████▋              | 36/40 [04:55<00:32,  8.00s/it, T of [30]=30, Best loss=0.394]"
     ]
    },
    {
     "name": "stdout",
     "output_type": "stream",
     "text": [
      "---\n",
      "Epoch: 35 | Train Loss: 0.3969858338435491 | Best Loss: 0.3939336270093918\n"
     ]
    },
    {
     "name": "stderr",
     "output_type": "stream",
     "text": [
      "100%|███████████████████████████████████████████████████████████████████████████████████████████████████████████████████████████████████████████████| 40/40 [05:28<00:00,  8.22s/it, T of [30]=30, Best loss=0.391]\n"
     ]
    }
   ],
   "source": [
    "train_model_unet(unet,device)"
   ]
  },
  {
   "cell_type": "code",
   "execution_count": 34,
   "id": "0bd3e468",
   "metadata": {},
   "outputs": [],
   "source": [
    "def mache_noise_direkt(image, anzahl_steps, total_steps=1000):\n",
    "    # Convert the image to a PyTorch tensor\n",
    "    # transform = transforms.ToTensor()\n",
    "    # image_tensor = transform(image)\n",
    "    \n",
    "    noisy_image_tensor = image\n",
    "    \n",
    "    alpha_quer = berechne_alpha_quer_x_forward_steps(total_steps)\n",
    "    \n",
    "    noisy_image_tensor, eps = x_forward_steps(noisy_image_tensor, alpha_quer[anzahl_steps-1])\n",
    "    noisy_image = ((noisy_image_tensor/2)+0.5).cpu().squeeze()\n",
    "    \n",
    "    return noisy_image_tensor, eps\n"
   ]
  },
  {
   "cell_type": "code",
   "execution_count": 37,
   "id": "b6168d47",
   "metadata": {},
   "outputs": [
    {
     "data": {
      "text/plain": [
       "UNet(\n",
       "  (inc): DoubleConv(\n",
       "    (double_conv): Sequential(\n",
       "      (0): Conv2d(96, 64, kernel_size=(3, 3), stride=(1, 1), padding=(1, 1), bias=False)\n",
       "      (1): BatchNorm2d(64, eps=1e-05, momentum=0.1, affine=True, track_running_stats=True)\n",
       "      (2): LeakyReLU(negative_slope=0.01, inplace=True)\n",
       "      (3): Conv2d(64, 64, kernel_size=(3, 3), stride=(1, 1), padding=(1, 1), bias=False)\n",
       "      (4): BatchNorm2d(64, eps=1e-05, momentum=0.1, affine=True, track_running_stats=True)\n",
       "      (5): LeakyReLU(negative_slope=0.01, inplace=True)\n",
       "    )\n",
       "  )\n",
       "  (down1): Down(\n",
       "    (maxpool_conv): Sequential(\n",
       "      (0): Conv2d(96, 96, kernel_size=(3, 3), stride=(2, 2), padding=(1, 1), bias=False)\n",
       "      (1): BatchNorm2d(96, eps=1e-05, momentum=0.1, affine=True, track_running_stats=True)\n",
       "      (2): LeakyReLU(negative_slope=0.01, inplace=True)\n",
       "      (3): DoubleConv(\n",
       "        (double_conv): Sequential(\n",
       "          (0): Conv2d(96, 128, kernel_size=(3, 3), stride=(1, 1), padding=(1, 1), bias=False)\n",
       "          (1): BatchNorm2d(128, eps=1e-05, momentum=0.1, affine=True, track_running_stats=True)\n",
       "          (2): LeakyReLU(negative_slope=0.01, inplace=True)\n",
       "          (3): Conv2d(128, 128, kernel_size=(3, 3), stride=(1, 1), padding=(1, 1), bias=False)\n",
       "          (4): BatchNorm2d(128, eps=1e-05, momentum=0.1, affine=True, track_running_stats=True)\n",
       "          (5): LeakyReLU(negative_slope=0.01, inplace=True)\n",
       "        )\n",
       "      )\n",
       "    )\n",
       "  )\n",
       "  (down2): Down(\n",
       "    (maxpool_conv): Sequential(\n",
       "      (0): Conv2d(160, 160, kernel_size=(3, 3), stride=(2, 2), padding=(1, 1), bias=False)\n",
       "      (1): BatchNorm2d(160, eps=1e-05, momentum=0.1, affine=True, track_running_stats=True)\n",
       "      (2): LeakyReLU(negative_slope=0.01, inplace=True)\n",
       "      (3): DoubleConv(\n",
       "        (double_conv): Sequential(\n",
       "          (0): Conv2d(160, 256, kernel_size=(3, 3), stride=(1, 1), padding=(1, 1), bias=False)\n",
       "          (1): BatchNorm2d(256, eps=1e-05, momentum=0.1, affine=True, track_running_stats=True)\n",
       "          (2): LeakyReLU(negative_slope=0.01, inplace=True)\n",
       "          (3): Conv2d(256, 256, kernel_size=(3, 3), stride=(1, 1), padding=(1, 1), bias=False)\n",
       "          (4): BatchNorm2d(256, eps=1e-05, momentum=0.1, affine=True, track_running_stats=True)\n",
       "          (5): LeakyReLU(negative_slope=0.01, inplace=True)\n",
       "        )\n",
       "      )\n",
       "    )\n",
       "  )\n",
       "  (down3): Down(\n",
       "    (maxpool_conv): Sequential(\n",
       "      (0): Conv2d(288, 288, kernel_size=(3, 3), stride=(2, 2), padding=(1, 1), bias=False)\n",
       "      (1): BatchNorm2d(288, eps=1e-05, momentum=0.1, affine=True, track_running_stats=True)\n",
       "      (2): LeakyReLU(negative_slope=0.01, inplace=True)\n",
       "      (3): DoubleConv(\n",
       "        (double_conv): Sequential(\n",
       "          (0): Conv2d(288, 512, kernel_size=(3, 3), stride=(1, 1), padding=(1, 1), bias=False)\n",
       "          (1): BatchNorm2d(512, eps=1e-05, momentum=0.1, affine=True, track_running_stats=True)\n",
       "          (2): LeakyReLU(negative_slope=0.01, inplace=True)\n",
       "          (3): Conv2d(512, 512, kernel_size=(3, 3), stride=(1, 1), padding=(1, 1), bias=False)\n",
       "          (4): BatchNorm2d(512, eps=1e-05, momentum=0.1, affine=True, track_running_stats=True)\n",
       "          (5): LeakyReLU(negative_slope=0.01, inplace=True)\n",
       "        )\n",
       "      )\n",
       "    )\n",
       "  )\n",
       "  (up3): Up(\n",
       "    (up): Sequential(\n",
       "      (0): ConvTranspose2d(512, 256, kernel_size=(4, 4), stride=(2, 2), padding=(1, 1), bias=False)\n",
       "      (1): BatchNorm2d(256, eps=1e-05, momentum=0.1, affine=True, track_running_stats=True)\n",
       "      (2): LeakyReLU(negative_slope=0.01, inplace=True)\n",
       "    )\n",
       "    (conv): DoubleConv(\n",
       "      (double_conv): Sequential(\n",
       "        (0): Conv2d(512, 256, kernel_size=(3, 3), stride=(1, 1), padding=(1, 1), bias=False)\n",
       "        (1): BatchNorm2d(256, eps=1e-05, momentum=0.1, affine=True, track_running_stats=True)\n",
       "        (2): LeakyReLU(negative_slope=0.01, inplace=True)\n",
       "        (3): Conv2d(256, 256, kernel_size=(3, 3), stride=(1, 1), padding=(1, 1), bias=False)\n",
       "        (4): BatchNorm2d(256, eps=1e-05, momentum=0.1, affine=True, track_running_stats=True)\n",
       "        (5): LeakyReLU(negative_slope=0.01, inplace=True)\n",
       "      )\n",
       "    )\n",
       "  )\n",
       "  (up4): Up(\n",
       "    (up): Sequential(\n",
       "      (0): ConvTranspose2d(256, 128, kernel_size=(4, 4), stride=(2, 2), padding=(1, 1), bias=False)\n",
       "      (1): BatchNorm2d(128, eps=1e-05, momentum=0.1, affine=True, track_running_stats=True)\n",
       "      (2): LeakyReLU(negative_slope=0.01, inplace=True)\n",
       "    )\n",
       "    (conv): DoubleConv(\n",
       "      (double_conv): Sequential(\n",
       "        (0): Conv2d(256, 128, kernel_size=(3, 3), stride=(1, 1), padding=(1, 1), bias=False)\n",
       "        (1): BatchNorm2d(128, eps=1e-05, momentum=0.1, affine=True, track_running_stats=True)\n",
       "        (2): LeakyReLU(negative_slope=0.01, inplace=True)\n",
       "        (3): Conv2d(128, 128, kernel_size=(3, 3), stride=(1, 1), padding=(1, 1), bias=False)\n",
       "        (4): BatchNorm2d(128, eps=1e-05, momentum=0.1, affine=True, track_running_stats=True)\n",
       "        (5): LeakyReLU(negative_slope=0.01, inplace=True)\n",
       "      )\n",
       "    )\n",
       "  )\n",
       "  (up5): Up(\n",
       "    (up): Sequential(\n",
       "      (0): ConvTranspose2d(128, 64, kernel_size=(4, 4), stride=(2, 2), padding=(1, 1), bias=False)\n",
       "      (1): BatchNorm2d(64, eps=1e-05, momentum=0.1, affine=True, track_running_stats=True)\n",
       "      (2): LeakyReLU(negative_slope=0.01, inplace=True)\n",
       "    )\n",
       "    (conv): DoubleConv(\n",
       "      (double_conv): Sequential(\n",
       "        (0): Conv2d(128, 64, kernel_size=(3, 3), stride=(1, 1), padding=(1, 1), bias=False)\n",
       "        (1): BatchNorm2d(64, eps=1e-05, momentum=0.1, affine=True, track_running_stats=True)\n",
       "        (2): LeakyReLU(negative_slope=0.01, inplace=True)\n",
       "        (3): Conv2d(64, 64, kernel_size=(3, 3), stride=(1, 1), padding=(1, 1), bias=False)\n",
       "        (4): BatchNorm2d(64, eps=1e-05, momentum=0.1, affine=True, track_running_stats=True)\n",
       "        (5): LeakyReLU(negative_slope=0.01, inplace=True)\n",
       "      )\n",
       "    )\n",
       "  )\n",
       "  (outc): OutConv(\n",
       "    (conv): Conv2d(64, 64, kernel_size=(1, 1), stride=(1, 1))\n",
       "  )\n",
       ")"
      ]
     },
     "execution_count": 37,
     "metadata": {},
     "output_type": "execute_result"
    }
   ],
   "source": [
    "unet = torch.load('fmnist_model_latent.pt')\n",
    "unet.eval()\n",
    "unet.to(device)"
   ]
  },
  {
   "cell_type": "code",
   "execution_count": 62,
   "id": "5e48042a",
   "metadata": {},
   "outputs": [
    {
     "name": "stdout",
     "output_type": "stream",
     "text": [
      "torch.Size([2048, 1, 28, 28])\n"
     ]
    },
    {
     "data": {
      "image/png": "[encoded data removed]",
      "text/plain": [
       "<Figure size 640x480 with 1 Axes>"
      ]
     },
     "metadata": {},
     "output_type": "display_data"
    },
    {
     "data": {
      "image/png": "[encoded data removed]",
      "text/plain": [
       "<Figure size 640x480 with 1 Axes>"
      ]
     },
     "metadata": {},
     "output_type": "display_data"
    },
    {
     "data": {
      "image/png": "[encoded data removed]",
      "text/plain": [
       "<Figure size 640x480 with 1 Axes>"
      ]
     },
     "metadata": {},
     "output_type": "display_data"
    },
    {
     "data": {
      "image/png": "[encoded data removed]",
      "text/plain": [
       "<Figure size 640x480 with 1 Axes>"
      ]
     },
     "metadata": {},
     "output_type": "display_data"
    },
    {
     "data": {
      "image/png": "[encoded data removed]",
      "text/plain": [
       "<Figure size 640x480 with 1 Axes>"
      ]
     },
     "metadata": {},
     "output_type": "display_data"
    },
    {
     "data": {
      "image/png": "[encoded data removed]",
      "text/plain": [
       "<Figure size 640x480 with 1 Axes>"
      ]
     },
     "metadata": {},
     "output_type": "display_data"
    },
    {
     "data": {
      "image/png": "[encoded data removed]",
      "text/plain": [
       "<Figure size 640x480 with 1 Axes>"
      ]
     },
     "metadata": {},
     "output_type": "display_data"
    },
    {
     "data": {
      "image/png": "[encoded data removed]",
      "text/plain": [
       "<Figure size 640x480 with 1 Axes>"
      ]
     },
     "metadata": {},
     "output_type": "display_data"
    },
    {
     "data": {
      "image/png": "[encoded data removed]",
      "text/plain": [
       "<Figure size 640x480 with 1 Axes>"
      ]
     },
     "metadata": {},
     "output_type": "display_data"
    },
    {
     "data": {
      "image/png": "[encoded data removed]",
      "text/plain": [
       "<Figure size 640x480 with 1 Axes>"
      ]
     },
     "metadata": {},
     "output_type": "display_data"
    },
    {
     "data": {
      "image/png": "[encoded data removed]",
      "text/plain": [
       "<Figure size 640x480 with 1 Axes>"
      ]
     },
     "metadata": {},
     "output_type": "display_data"
    }
   ],
   "source": [
    "from IPython.display import display, clear_output\n",
    "\n",
    "betas = create_linear_schedule(1000, 0.0001, 0.02)\n",
    "alphas = 1 - np.array(betas)\n",
    "alphas_quer = []\n",
    "for k in range(len(alphas)):\n",
    "    alphas_quer.append(np.prod(alphas[:k + 1]))\n",
    "\n",
    "#latent_noise, eps = mache_noise_direkt(i[0:1].to(device), 1000)\n",
    "print(i.shape)\n",
    "plt.imshow(i[0,0].cpu().detach().numpy(), cmap=\"gray\")\n",
    "plt.show()\n",
    "latent_noise = autoencoder.encoder(i[0:1].to(device))\n",
    "#img_noise = torch.randn_like(img_noise)\n",
    "#latent_noise = torch.randn((1,64,7,7)).to(device)\n",
    "fig, ax = plt.subplots()\n",
    "\n",
    "for j in reversed(range(999)):    \n",
    "    img_pred = unet(latent_noise, j)\n",
    "    if j > 1:\n",
    "        z = torch.randn_like(latent_noise)\n",
    "    else:\n",
    "        z = torch.zeros_like(latent_noise)\n",
    "    #ausführliche Definition von Sigma:   \n",
    "    #img_noise = (1/np.sqrt(alphas[j+1])) * (img_noise - ((1- alphas[j+1])/(np.sqrt(1-alphas_quer[j+1]))) * img_pred) + np.sqrt((1-alphas_quer[j])/(1-alphas_quer[j+1]) *betas[j+1])*z\n",
    "    #Sigma^2 = beta:\n",
    "    # Alter Ansatz: DDPM\n",
    "    latent_noise = (1/np.sqrt(alphas[j+1])) * (latent_noise - ((1- alphas[j+1])/(np.sqrt(1-alphas_quer[j+1]))) * img_pred) + np.sqrt(betas[j+1])*z\n",
    "    \n",
    "    \n",
    "    if j % 100 == 0:\n",
    "        img_noise = autoencoder.decoder(latent_noise)\n",
    "        #clear_output(wait=True)  # Löscht die vorherige Ausgabe\n",
    "        plt.imshow(img_noise[0,0].cpu().detach().numpy(), cmap=\"gray\")\n",
    "        plt.show()\n"
   ]
  },
  {
   "cell_type": "code",
   "execution_count": null,
   "id": "2cbd863e",
   "metadata": {},
   "outputs": [],
   "source": []
  },
  {
   "cell_type": "code",
   "execution_count": null,
   "id": "b624d4f1",
   "metadata": {},
   "outputs": [],
   "source": []
  }
 ],
 "metadata": {
  "kernelspec": {
   "display_name": "Python 3 (ipykernel)",
   "language": "python",
   "name": "python3"
  },
  "language_info": {
   "codemirror_mode": {
    "name": "ipython",
    "version": 3
   },
   "file_extension": ".py",
   "mimetype": "text/x-python",
   "name": "python",
   "nbconvert_exporter": "python",
   "pygments_lexer": "ipython3",
   "version": "3.8.10"
  }
 },
 "nbformat": 4,
 "nbformat_minor": 5
}
