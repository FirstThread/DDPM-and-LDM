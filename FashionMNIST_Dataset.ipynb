{
 "cells": [
  {
   "cell_type": "markdown",
   "id": "00beb01c",
   "metadata": {},
   "source": [
    "#### Getting Started with FashionMNIST\n",
    "\n",
    "This notebook shows how to load the FashionMNIST dataset in PyTorch and illustrates what kind of samples it contains."
   ]
  },
  {
   "cell_type": "code",
   "execution_count": 1,
   "id": "a9335503",
   "metadata": {},
   "outputs": [],
   "source": [
    "import torch\n",
    "import random\n",
    "import matplotlib.pyplot as plt\n",
    "from torchvision.datasets import FashionMNIST\n",
    "from torchvision.transforms import ToTensor\n",
    "from torch.utils.data import ConcatDataset"
   ]
  },
  {
   "cell_type": "code",
   "execution_count": 2,
   "id": "0d0a6844",
   "metadata": {},
   "outputs": [
    {
     "name": "stdout",
     "output_type": "stream",
     "text": [
      "The combined dataset contains 70000 samples.\n",
      "It contains objects from the following 10 classes:\n",
      "['T-shirt/top', 'Trouser', 'Pullover', 'Dress', 'Coat', 'Sandal', 'Shirt', 'Sneaker', 'Bag', 'Ankle boot'] \n",
      "\n",
      "The shape of an image tensor is: torch.Size([1, 28, 28])\n",
      "The shape of a class label is: torch.Size([1])\n"
     ]
    }
   ],
   "source": [
    "# create an instance of the training split of the FashionMNIST dataset\n",
    "dataset_train = FashionMNIST(root='/data/FashionMNIST', train=True, download=True, \n",
    "                             transform=ToTensor(), target_transform=lambda x: torch.Tensor([x]).int())\n",
    "# now create an instance of the test split\n",
    "dataset_valid = FashionMNIST(root='/data/FashionMNIST', train=False, download=True, \n",
    "                             transform=ToTensor(), target_transform=lambda x: torch.Tensor([x]).int())\n",
    "# for our purposes we can combine the 60k training and 10k testing samples\n",
    "dataset = ConcatDataset([dataset_train, dataset_valid])\n",
    "# display some information on the dataset\n",
    "print(f'The combined dataset contains {len(dataset)} samples.')\n",
    "print(f'It contains objects from the following {len(dataset_train.classes)} classes:')\n",
    "print(dataset_train.classes, '\\n')\n",
    "# select a random sample index and load the corresponding data sample\n",
    "sample_idx = random.randrange(len(dataset))\n",
    "# \n",
    "img_tensor, class_label = dataset.__getitem__(sample_idx)\n",
    "print('The shape of an image tensor is:', img_tensor.shape)\n",
    "print('The shape of a class label is:', class_label.shape)"
   ]
  },
  {
   "cell_type": "code",
   "execution_count": 3,
   "id": "166dbb4b",
   "metadata": {},
   "outputs": [
    {
     "data": {
      "image/png": "[encoded data removed]",
      "text/plain": [
       "<Figure size 640x480 with 1 Axes>"
      ]
     },
     "metadata": {},
     "output_type": "display_data"
    },
    {
     "name": "stdout",
     "output_type": "stream",
     "text": [
      "The image shows an instance of Dress.\n"
     ]
    }
   ],
   "source": [
    "# we can also visualize and describe a sample\n",
    "fig, ax = plt.subplots()\n",
    "ax.imshow(img_tensor.squeeze(), cmap='Greys_r')\n",
    "plt.axis('off')\n",
    "plt.show()\n",
    "print('The image shows an instance of ' + dataset_train.classes[class_label.item()] + '.')"
   ]
  }
 ],
 "metadata": {
  "kernelspec": {
   "display_name": "Python 3 (ipykernel)",
   "language": "python",
   "name": "python3"
  },
  "language_info": {
   "codemirror_mode": {
    "name": "ipython",
    "version": 3
   },
   "file_extension": ".py",
   "mimetype": "text/x-python",
   "name": "python",
   "nbconvert_exporter": "python",
   "pygments_lexer": "ipython3",
   "version": "3.8.10"
  }
 },
 "nbformat": 4,
 "nbformat_minor": 5
}
