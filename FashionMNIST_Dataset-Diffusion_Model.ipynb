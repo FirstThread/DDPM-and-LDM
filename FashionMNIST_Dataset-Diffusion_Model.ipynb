{
 "cells": [
  {
   "cell_type": "markdown",
   "id": "00beb01c",
   "metadata": {},
   "source": [
    "#### Getting Started with FashionMNIST\n",
    "\n",
    "This notebook shows how to load the FashionMNIST dataset in PyTorch and illustrates what kind of samples it contains."
   ]
  },
  {
   "cell_type": "code",
   "execution_count": 1,
   "id": "a9335503",
   "metadata": {},
   "outputs": [],
   "source": [
    "import torch\n",
    "import random\n",
    "import numpy as np\n",
    "import matplotlib.pyplot as plt\n",
    "from torchvision.datasets import FashionMNIST\n",
    "from torchvision.transforms import ToTensor\n",
    "from torch.utils.data import ConcatDataset\n",
    "import torchvision.transforms as transforms\n",
    "import torch.nn.functional as F\n",
    "from tqdm import tqdm\n",
    "#from utils.dice_score import multiclass_dice_coeff, dice_coeff"
   ]
  },
  {
   "cell_type": "code",
   "execution_count": 2,
   "id": "0d0a6844",
   "metadata": {},
   "outputs": [
    {
     "name": "stdout",
     "output_type": "stream",
     "text": [
      "The combined dataset contains 70000 samples.\n",
      "It contains objects from the following 10 classes:\n",
      "['T-shirt/top', 'Trouser', 'Pullover', 'Dress', 'Coat', 'Sandal', 'Shirt', 'Sneaker', 'Bag', 'Ankle boot'] \n",
      "\n",
      "The shape of an image tensor is: torch.Size([1, 28, 28])\n",
      "The shape of a class label is: torch.Size([1])\n"
     ]
    }
   ],
   "source": [
    "device = torch.device('cuda' if torch.cuda.is_available() else 'cpu')\n",
    "\n",
    "# Transformationen definieren\n",
    "transform = transforms.Compose([\n",
    "    transforms.ToTensor(),\n",
    "    transforms.Normalize((0.5,), (0.5,))  # Normalisiert Daten auf [-1, 1]\n",
    "])\n",
    "\n",
    "# Erstellen Sie eine Instanz des Trainingssplits des FashionMNIST-Datasets\n",
    "dataset_train = FashionMNIST(root='/data/FashionMNIST', train=True, download=True, \n",
    "                             transform=transform, target_transform=lambda x: torch.Tensor([x]).int())\n",
    "\n",
    "# Jetzt erstellen Sie eine Instanz des Testsplits\n",
    "dataset_valid = FashionMNIST(root='/data/FashionMNIST', train=False, download=True, \n",
    "                             transform=transform, target_transform=lambda x: torch.Tensor([x]).int())\n",
    "\n",
    "# Für unsere Zwecke können wir die 60k Training- und 10k Testbeispiele kombinieren\n",
    "from torch.utils.data import ConcatDataset\n",
    "dataset = ConcatDataset([dataset_train, dataset_valid])\n",
    "\n",
    "# Einige Informationen zum Datensatz anzeigen\n",
    "print(f'The combined dataset contains {len(dataset)} samples.')\n",
    "print(f'It contains objects from the following {len(dataset_train.classes)} classes:')\n",
    "print(dataset_train.classes, '\\n')\n",
    "# select a random sample index and load the corresponding data sample\n",
    "sample_idx = random.randrange(len(dataset))\n",
    "# \n",
    "img_tensor, class_label = dataset.__getitem__(sample_idx)\n",
    "trainloader = torch.utils.data.DataLoader(dataset_train, batch_size=1024,\n",
    "                                          shuffle=True, num_workers=2)\n",
    "\n",
    "print('The shape of an image tensor is:', img_tensor.shape)\n",
    "print('The shape of a class label is:', class_label.shape)"
   ]
  },
  {
   "cell_type": "code",
   "execution_count": 3,
   "id": "166dbb4b",
   "metadata": {},
   "outputs": [
    {
     "data": {
      "image/png": "[encoded data removed]",
      "text/plain": [
       "<Figure size 640x480 with 1 Axes>"
      ]
     },
     "metadata": {},
     "output_type": "display_data"
    },
    {
     "name": "stdout",
     "output_type": "stream",
     "text": [
      "The image shows an instance of Coat.\n"
     ]
    }
   ],
   "source": [
    "# we can also visualize and describe a sample\n",
    "fig, ax = plt.subplots()\n",
    "ax.imshow(img_tensor.cpu().squeeze(), cmap='Greys_r')\n",
    "plt.axis('off')\n",
    "plt.show()\n",
    "print('The image shows an instance of ' + dataset_train.classes[class_label.item()] + '.')"
   ]
  },
  {
   "cell_type": "code",
   "execution_count": 4,
   "id": "195b6b44",
   "metadata": {},
   "outputs": [
    {
     "name": "stdout",
     "output_type": "stream",
     "text": [
      "Minimaler Wert: -1.0\n",
      "Maximaler Wert: 1.0\n"
     ]
    }
   ],
   "source": [
    "min_value = torch.min(img_tensor)\n",
    "max_value = torch.max(img_tensor)\n",
    "\n",
    "print(f\"Minimaler Wert: {min_value.item()}\")\n",
    "print(f\"Maximaler Wert: {max_value.item()}\")\n",
    "\n"
   ]
  },
  {
   "cell_type": "code",
   "execution_count": 5,
   "id": "7aa9e131",
   "metadata": {},
   "outputs": [],
   "source": [
    "# handvoll resisdual basic blocks -> flatten -> handvoll fully conntected layers\n",
    "# resnet basic block : conv3x3 + norm_layer + non_lin + conv3x3 + normlayer\n",
    "# identity: conv1x1 + norm layer\n",
    "# output: non_lin(identity_layers(x) + [conv3x3 + norm_layer + non_lin + conv3x3 + normlayer](x))"
   ]
  },
  {
   "cell_type": "code",
   "execution_count": 6,
   "id": "b279eb67",
   "metadata": {},
   "outputs": [],
   "source": [
    "def create_linear_schedule(steps, start, end):\n",
    "    step_size = (end - start) / (steps - 1)  \n",
    "    linear_schedule = []\n",
    "    for i in range(steps):\n",
    "        linear_schedule.append(start + i * step_size)\n",
    "    return linear_schedule\n",
    "\n"
   ]
  },
  {
   "cell_type": "code",
   "execution_count": 7,
   "id": "8883e9da",
   "metadata": {},
   "outputs": [],
   "source": [
    "def normalize_image(image):\n",
    "    min_value = torch.min(image)\n",
    "    max_value = torch.max(image)\n",
    "    \n",
    "    normalized_image = 2 * ((image - min_value) / (max_value - min_value)) - 1\n",
    "    return normalized_image"
   ]
  },
  {
   "cell_type": "code",
   "execution_count": 8,
   "id": "73dc0e93",
   "metadata": {},
   "outputs": [],
   "source": [
    "# Function to add Gaussian noise to an image tensor\n",
    "def add_gaussian_noise(image, mean=0., std=1.):\n",
    "    eps = torch.empty_like(image).normal_(mean=0,std=1)\n",
    "    noise = eps * std + mean\n",
    "    # beta*eps + sqrt(1-beta)*image+std # (1-beta).sqrt()*image + beta*eps\n",
    "    # Clip the values to be between 0 and 1\n",
    "    # noisy_image = normalize_image(noisy_image)\n",
    "    return noise, eps"
   ]
  },
  {
   "cell_type": "code",
   "execution_count": 9,
   "id": "2329b546",
   "metadata": {},
   "outputs": [],
   "source": [
    "def one_forward_step(curr_image, beta):\n",
    "    std = np.sqrt(beta) #* np.random.normal()#* np.identity(like=curr_image) Nicht notwendig da äquivalent zu Skalar von Rechts\n",
    "    mean = np.sqrt(1-beta) * curr_image #+ std\n",
    "    image, eps = add_gaussian_noise(curr_image,mean=mean,std=std)\n",
    "    return image"
   ]
  },
  {
   "cell_type": "code",
   "execution_count": 10,
   "id": "9c3eaec0",
   "metadata": {},
   "outputs": [],
   "source": [
    "def mache_noise(image, anzahl_bilder):\n",
    "    # Convert the image to a PyTorch tensor\n",
    "    # transform = transforms.ToTensor()\n",
    "    # image_tensor = transform(image)\n",
    "    \n",
    "    # Display the original image\n",
    "    plt.imshow(image.cpu().squeeze())\n",
    "    plt.title(\"Original Image\")\n",
    "    plt.show()\n",
    "    \n",
    "    verrauschte_bilder = []\n",
    "    schedule = create_linear_schedule(anzahl_bilder, 0.0001, 0.02)\n",
    "    print(schedule)\n",
    "    noisy_image_tensor = image\n",
    "    for i in range(len(schedule)):\n",
    "        noisy_image_tensor = one_forward_step(noisy_image_tensor, schedule[i])\n",
    "        \n",
    "        # Convert the noisy image tensor back to a PIL image\n",
    "        noisy_image = ((noisy_image_tensor/2)+0.5).cpu().squeeze()\n",
    "        \n",
    "        verrauschte_bilder.append(noisy_image)\n",
    "        \n",
    "        # Optional: Display each noisy image if desired\n",
    "        plt.imshow(noisy_image, cmap='Greys_r')\n",
    "        plt.title(f\"Noisy Image {i+1}: {noisy_image_tensor.mean()}, {noisy_image_tensor.std()}\")\n",
    "        plt.show()\n",
    "    "
   ]
  },
  {
   "cell_type": "code",
   "execution_count": 11,
   "id": "13c478d7",
   "metadata": {},
   "outputs": [
    {
     "data": {
      "image/png": "[encoded data removed]",
      "text/plain": [
       "<Figure size 640x480 with 1 Axes>"
      ]
     },
     "metadata": {},
     "output_type": "display_data"
    },
    {
     "name": "stdout",
     "output_type": "stream",
     "text": [
      "[0.0001, 0.0050750000000000005, 0.01005, 0.015025, 0.02]\n"
     ]
    },
    {
     "data": {
      "image/png": "[encoded data removed]",
      "text/plain": [
       "<Figure size 640x480 with 1 Axes>"
      ]
     },
     "metadata": {},
     "output_type": "display_data"
    },
    {
     "data": {
      "image/png": "[encoded data removed]",
      "text/plain": [
       "<Figure size 640x480 with 1 Axes>"
      ]
     },
     "metadata": {},
     "output_type": "display_data"
    },
    {
     "data": {
      "image/png": "[encoded data removed]",
      "text/plain": [
       "<Figure size 640x480 with 1 Axes>"
      ]
     },
     "metadata": {},
     "output_type": "display_data"
    },
    {
     "data": {
      "image/png": "[encoded data removed]",
      "text/plain": [
       "<Figure size 640x480 with 1 Axes>"
      ]
     },
     "metadata": {},
     "output_type": "display_data"
    },
    {
     "data": {
      "image/png": "[encoded data removed]",
      "text/plain": [
       "<Figure size 640x480 with 1 Axes>"
      ]
     },
     "metadata": {},
     "output_type": "display_data"
    }
   ],
   "source": [
    "img_tensor = img_tensor.to(device)\n",
    "mache_noise(img_tensor, 5)"
   ]
  },
  {
   "cell_type": "code",
   "execution_count": 12,
   "id": "433b6d56",
   "metadata": {},
   "outputs": [],
   "source": [
    "def berechne_alpha_quer_x_forward_steps(anzahl_steps):\n",
    "    scheduler = create_linear_schedule(anzahl_steps, 0.0001, 0.02)\n",
    "    alphas = 1 - np.array(scheduler)\n",
    "    alphas_quer = []\n",
    "    for i in range(len(alphas)):\n",
    "        alphas_quer.append(np.prod(alphas[:i + 1]))\n",
    "    return alphas_quer"
   ]
  },
  {
   "cell_type": "code",
   "execution_count": 13,
   "id": "aa215b94",
   "metadata": {},
   "outputs": [],
   "source": [
    "def x_forward_steps(curr_image, alpha_quer):\n",
    "    std = np.sqrt(1 - alpha_quer) #* np.identity(like=curr_image) Nicht notwendig da äquivalent zu Skalar von Rechts\n",
    "    mean = np.sqrt(alpha_quer) * curr_image\n",
    "    new_image, eps = add_gaussian_noise(curr_image,mean=mean,std=std)\n",
    "    return new_image, eps"
   ]
  },
  {
   "cell_type": "code",
   "execution_count": 14,
   "id": "972a8da4",
   "metadata": {},
   "outputs": [],
   "source": [
    "def mache_noise_direkt(image, anzahl_steps, total_steps=1000):\n",
    "    # Convert the image to a PyTorch tensor\n",
    "    # transform = transforms.ToTensor()\n",
    "    # image_tensor = transform(image)\n",
    "    \n",
    "    noisy_image_tensor = image\n",
    "    \n",
    "    alpha_quer = berechne_alpha_quer_x_forward_steps(total_steps)\n",
    "    \n",
    "    noisy_image_tensor, eps = x_forward_steps(noisy_image_tensor, alpha_quer[anzahl_steps-1])\n",
    "    noisy_image = ((noisy_image_tensor/2)+0.5).cpu().squeeze()\n",
    "    \n",
    "    return noisy_image_tensor, eps\n"
   ]
  },
  {
   "cell_type": "code",
   "execution_count": 15,
   "id": "9c0b76af",
   "metadata": {},
   "outputs": [
    {
     "data": {
      "text/plain": [
       "(tensor([[[-1.0020e+00, -9.2652e-01, -1.2560e+00, -1.1884e+00, -6.3699e-01,\n",
       "           -1.1754e+00, -1.0685e+00, -9.8547e-01, -1.0705e+00, -8.8628e-01,\n",
       "           -1.1763e+00, -9.6996e-01,  1.8770e-03, -1.1570e-01,  3.4719e-02,\n",
       "            9.6127e-02, -5.9197e-01, -1.1509e+00, -1.0364e+00, -9.9674e-01,\n",
       "           -7.4480e-01, -6.3615e-01, -1.0893e+00, -8.5904e-01, -1.1234e+00,\n",
       "           -8.8204e-01, -1.1333e+00, -1.0947e+00],\n",
       "          [-8.7301e-01, -7.3239e-01, -1.1123e+00, -1.0012e+00, -8.6222e-01,\n",
       "           -8.7326e-01, -9.6059e-01, -1.0737e+00, -6.9509e-01, -7.9734e-01,\n",
       "           -1.0376e+00, -8.1446e-02,  5.0828e-01,  8.4727e-01,  8.9625e-01,\n",
       "            7.5894e-01, -6.3005e-01, -1.0065e+00, -9.0124e-01, -9.6944e-01,\n",
       "           -6.1490e-01, -8.7431e-01, -9.0798e-01, -6.8704e-01, -1.0585e+00,\n",
       "           -1.0436e+00, -1.1701e+00, -9.5219e-01],\n",
       "          [-1.1291e+00, -1.0301e+00, -1.3564e+00, -1.0874e+00, -1.0835e+00,\n",
       "           -7.5642e-01, -7.7440e-01, -1.0126e+00, -5.8334e-01, -1.0255e-01,\n",
       "            4.3929e-01, -3.7874e-01,  6.8046e-01,  8.8567e-01,  9.7162e-01,\n",
       "            1.3286e-01,  2.9491e-01,  3.0436e-01, -6.1847e-01, -6.9033e-01,\n",
       "           -6.8848e-01, -9.3776e-01, -1.2567e+00, -1.2843e+00, -8.2708e-01,\n",
       "           -1.2315e+00, -7.8099e-01, -9.6072e-01],\n",
       "          [-8.8142e-01, -1.3214e+00, -1.1493e+00, -7.6717e-01, -9.1933e-01,\n",
       "           -7.9039e-01, -5.8324e-01,  2.8454e-01,  2.8427e-01,  4.0619e-01,\n",
       "           -2.2447e-02,  1.1019e-01, -1.2676e-01,  6.5799e-01,  6.9146e-01,\n",
       "           -5.5784e-01,  1.4462e-02, -1.1298e-01,  3.6024e-01, -1.1703e-01,\n",
       "           -3.7733e-02, -7.4523e-01, -1.1677e+00, -1.2602e+00, -6.0034e-01,\n",
       "           -1.2131e+00, -9.7844e-01, -1.1702e+00],\n",
       "          [-1.0273e+00, -1.0031e+00, -1.0862e+00, -8.8122e-01, -8.0713e-01,\n",
       "           -7.1215e-01,  3.6753e-01,  1.4032e-01,  1.4736e-01,  2.0910e-01,\n",
       "           -2.0647e-02, -5.8954e-02,  1.0459e-01,  1.2473e-01,  3.4947e-02,\n",
       "            1.2592e-01,  7.0537e-02, -1.3241e-01,  2.4833e-01,  1.1984e-02,\n",
       "           -3.2507e-04,  5.3599e-01, -8.2548e-01, -1.0472e+00, -9.9991e-01,\n",
       "           -7.7957e-01, -1.0914e+00, -9.2581e-01],\n",
       "          [-8.7998e-01, -9.5482e-01, -1.0485e+00, -1.0675e+00, -1.0350e+00,\n",
       "            2.0072e-02,  3.1145e-01,  1.3973e-01,  6.6767e-03,  2.2125e-01,\n",
       "            2.9381e-01,  2.5589e-01, -1.3118e-01, -6.9064e-02,  2.3135e-01,\n",
       "           -5.7171e-02,  1.6717e-01,  1.2192e-01, -9.7273e-02,  5.7013e-02,\n",
       "           -2.7708e-02,  5.2632e-02,  1.5032e-01, -1.0532e+00, -1.3084e+00,\n",
       "           -7.8358e-01, -5.7483e-01, -7.6757e-01],\n",
       "          [-1.3719e+00, -1.3662e+00, -6.3711e-01, -8.1361e-01, -6.1173e-01,\n",
       "            2.6183e-01, -5.3134e-02, -5.8017e-02,  3.8102e-01,  1.9419e-01,\n",
       "            2.8646e-01,  3.1139e-01, -2.6400e-01,  3.3353e-02,  2.2831e-01,\n",
       "            1.4024e-02,  3.1245e-02, -2.5359e-01,  6.3526e-02,  1.9323e-01,\n",
       "           -1.9906e-01,  1.2723e-01,  4.0749e-01, -9.0552e-01, -8.4794e-01,\n",
       "           -1.0085e+00, -1.0381e+00, -1.0321e+00],\n",
       "          [-8.6678e-01, -7.9954e-01, -1.1277e+00, -1.0159e+00, -9.3007e-01,\n",
       "            3.0947e-01, -3.9893e-03,  1.0755e-01,  3.9567e-01, -1.2595e-01,\n",
       "           -2.7622e-01,  4.5036e-01, -1.9864e-01,  1.3479e-01,  3.1243e-01,\n",
       "            2.7656e-01,  2.7862e-02,  1.3863e-01, -6.0659e-02,  9.8435e-03,\n",
       "           -2.6022e-02,  2.2803e-01,  1.4954e-01, -7.4177e-01, -6.2630e-01,\n",
       "           -1.1488e+00, -9.0431e-01, -1.0749e+00],\n",
       "          [-5.6552e-01, -1.1162e+00, -1.1166e+00, -9.5937e-01, -4.5861e-01,\n",
       "            4.0639e-01,  2.2174e-01, -1.1804e-01, -2.4461e-01,  1.0100e-01,\n",
       "            1.0068e-01,  9.5636e-02,  6.1794e-02,  1.2853e-01,  2.5535e-01,\n",
       "            9.2276e-02, -9.3493e-02, -1.0942e-01,  1.5814e-01,  9.1442e-03,\n",
       "           -9.8247e-02,  2.7486e-01,  3.5357e-01, -6.1532e-01, -1.0065e+00,\n",
       "           -1.1470e+00, -8.1534e-01, -1.1139e+00],\n",
       "          [-1.2210e+00, -1.0565e+00, -8.8903e-01, -7.7093e-01, -3.1534e-01,\n",
       "            2.7973e-01,  1.0062e-01,  1.4077e-01, -8.7988e-02,  1.3387e-01,\n",
       "           -2.5571e-02,  3.4581e-01,  9.0992e-02,  4.5868e-01,  2.7714e-01,\n",
       "           -7.3937e-02,  4.4130e-02, -1.9627e-03, -4.0731e-02,  1.5883e-01,\n",
       "            7.9844e-02,  1.9612e-01,  2.3001e-01, -2.9760e-02, -1.1993e+00,\n",
       "           -9.0012e-01, -9.4329e-01, -1.1818e+00],\n",
       "          [-1.2552e+00, -1.1756e+00, -7.1146e-01, -9.3995e-01,  3.5161e-02,\n",
       "            1.2121e-01,  1.0908e-01,  9.1249e-01,  8.2168e-02,  8.2521e-04,\n",
       "            1.7035e-01,  1.1973e-01, -5.7342e-03,  1.4447e-02,  4.3340e-02,\n",
       "            3.8532e-01,  4.8602e-01, -7.6125e-03,  1.7637e-01, -1.7908e-01,\n",
       "            6.8399e-01,  2.0540e-01,  3.0424e-01, -8.3913e-02, -9.6068e-01,\n",
       "           -8.4750e-01, -1.1627e+00, -8.1699e-01],\n",
       "          [-8.5933e-01, -7.2827e-01, -1.0657e+00, -8.0273e-01,  3.2751e-01,\n",
       "            4.1105e-01,  1.9367e-01,  7.0773e-01,  2.8181e-02,  1.4616e-01,\n",
       "            7.5991e-02,  2.4336e-01, -1.3088e-04, -7.5323e-02,  3.7590e-02,\n",
       "            1.9109e-01,  2.9116e-01,  4.4661e-01, -1.8949e-01,  5.4974e-02,\n",
       "            7.5273e-01,  1.6579e-01,  1.4824e-01,  1.7201e-01, -1.4821e+00,\n",
       "           -1.1031e+00, -1.1100e+00, -9.4658e-01],\n",
       "          [-1.2361e+00, -7.4348e-01, -8.0591e-01, -8.3562e-01, -9.7882e-02,\n",
       "           -1.0527e-01,  2.7876e-01,  8.3689e-01,  7.0093e-02, -4.5401e-02,\n",
       "            3.3458e-02,  3.3884e-01, -1.1400e-01,  5.3415e-01,  1.7577e-01,\n",
       "           -1.1565e-02,  2.3390e-01,  1.0417e-01, -2.7729e-01,  1.5235e-02,\n",
       "            8.3611e-01,  1.3839e-01,  1.4707e-01,  1.7264e-01, -7.9193e-01,\n",
       "           -6.8674e-01, -1.2486e+00, -1.0177e+00],\n",
       "          [-9.6873e-01, -1.1688e+00, -9.1038e-01, -1.1904e+00,  2.2704e-01,\n",
       "            2.9749e-01,  5.2381e-01,  5.2763e-01,  4.1964e-01, -1.5305e-02,\n",
       "            1.9839e-01,  3.9972e-01, -2.0009e-01,  2.0038e-01,  7.5211e-02,\n",
       "            1.8636e-01, -7.5539e-02,  3.4096e-01, -8.6823e-02,  2.1788e-01,\n",
       "            9.5649e-01,  6.8637e-01,  4.2280e-01,  6.3767e-01, -5.8236e-01,\n",
       "           -9.7180e-01, -6.4141e-01, -8.5036e-01],\n",
       "          [-1.2055e+00, -9.6153e-01, -8.3376e-01, -1.2425e+00,  3.4359e-01,\n",
       "           -6.9567e-02,  8.6080e-01,  2.8692e-02,  1.8689e-01, -4.6535e-02,\n",
       "            3.6478e-02,  2.4954e-01,  1.3103e-01, -5.4507e-02,  2.8227e-01,\n",
       "           -2.5841e-01,  4.1660e-01,  3.3449e-01, -2.0583e-01, -6.0536e-02,\n",
       "            6.4330e-01,  6.4212e-01, -1.3170e-01,  2.6263e-01, -4.7312e-01,\n",
       "           -1.2486e+00, -1.1075e+00, -9.1520e-01],\n",
       "          [-1.1100e+00, -1.1210e+00, -1.1256e+00, -1.2285e+00,  2.5060e-01,\n",
       "           -1.2882e-01,  4.8978e-01,  2.3573e-01, -4.4587e-01,  1.7851e-01,\n",
       "            2.4798e-01,  1.2779e-01,  2.4253e-01,  2.2374e-01,  4.6274e-02,\n",
       "           -8.2329e-02, -9.0253e-03, -2.4239e-01,  3.2049e-01, -3.4600e-01,\n",
       "            2.3397e-01,  6.9469e-01, -1.8541e-01,  2.8190e-01, -3.6014e-01,\n",
       "           -9.4446e-01, -8.8282e-01, -9.4834e-01],\n",
       "          [-1.0186e+00, -1.0950e+00, -1.0135e+00, -9.5849e-01,  2.1055e-01,\n",
       "           -2.6107e-01,  6.4098e-01,  1.1475e-02, -1.8100e-01,  7.6965e-02,\n",
       "            1.2366e-01, -1.1040e-02, -3.6204e-01,  1.6059e-01,  1.4465e-01,\n",
       "            1.4943e-01,  5.0066e-02, -6.8564e-02, -2.2590e-02, -1.0258e-01,\n",
       "            3.2643e-01,  8.9733e-01,  2.7956e-01,  1.7551e-01, -7.5553e-01,\n",
       "           -1.0805e+00, -1.0681e+00, -8.6562e-01],\n",
       "          [-6.9657e-01, -6.1384e-01, -1.0665e+00, -9.1601e-01,  3.3643e-01,\n",
       "           -2.4390e-01,  8.7484e-01, -9.9964e-02, -2.0396e-01,  3.1471e-01,\n",
       "           -3.7302e-02,  1.5418e-01,  4.6404e-01,  3.6491e-01,  6.5068e-02,\n",
       "            3.3690e-01, -2.3085e-01,  1.5191e-01,  6.4235e-02, -4.5245e-01,\n",
       "            1.2359e-01,  5.8940e-01,  8.5772e-02,  2.6623e-01, -6.9269e-01,\n",
       "           -7.5140e-01, -1.0808e+00, -1.1635e+00],\n",
       "          [-1.0495e+00, -1.1621e+00, -8.7187e-01, -6.1627e-01,  3.7256e-01,\n",
       "            1.1615e-01,  9.8254e-01, -1.6679e-01, -6.5112e-01,  9.7981e-03,\n",
       "            3.2709e-01,  2.4712e-01,  3.1349e-01,  2.3090e-01,  5.2685e-01,\n",
       "            1.2300e-01,  1.0171e-01, -1.8934e-02,  1.9909e-01, -4.9815e-01,\n",
       "           -2.6478e-01,  6.7933e-01, -2.5579e-02,  6.7544e-01, -4.1871e-01,\n",
       "           -9.1457e-01, -9.9689e-01, -8.1116e-01],\n",
       "          [-9.9043e-01, -1.2969e+00, -1.2245e+00, -7.2474e-01, -4.5902e-02,\n",
       "           -8.0921e-02,  8.8664e-01, -2.2017e-01, -1.4354e-01,  2.4374e-01,\n",
       "           -7.8168e-02, -4.6349e-02, -4.7385e-02,  2.0749e-01,  1.8967e-01,\n",
       "            2.3119e-01, -9.1817e-02,  1.2512e-01, -2.2394e-02, -4.0954e-01,\n",
       "           -2.0265e-01,  6.5967e-01, -1.7363e-01,  6.5716e-01, -7.5520e-01,\n",
       "           -7.9553e-01, -1.2351e+00, -8.7368e-01],\n",
       "          [-6.8256e-01, -1.0160e+00, -9.3693e-01, -5.3340e-01,  3.1117e-01,\n",
       "            4.2425e-01,  7.5397e-01, -4.1079e-01, -1.2801e-01, -2.3340e-02,\n",
       "            8.1031e-02, -1.4219e-01, -5.6582e-02, -6.6114e-02, -1.5222e-02,\n",
       "            2.8103e-01,  2.1658e-01,  5.5237e-02,  1.1798e-01, -2.5818e-02,\n",
       "           -2.9498e-01,  1.1256e+00,  4.5526e-02,  2.6810e-01, -6.1671e-01,\n",
       "           -9.8597e-01, -8.8246e-01, -1.2497e+00],\n",
       "          [-8.3616e-01, -9.0356e-01, -1.1037e+00, -7.4935e-01, -4.6919e-03,\n",
       "            3.1181e-01,  7.1146e-01, -5.7938e-01, -2.8259e-01,  1.0027e-01,\n",
       "            7.8502e-02,  4.3484e-01, -1.1216e-01,  5.1565e-01,  2.3618e-01,\n",
       "           -1.7266e-01,  3.9289e-01,  2.3578e-01,  4.8660e-01, -1.2189e-01,\n",
       "           -6.0461e-01,  8.9031e-01, -1.4704e-01,  1.9378e-01, -7.1337e-01,\n",
       "           -6.5576e-01, -1.0338e+00, -1.0680e+00],\n",
       "          [-8.5480e-01, -9.5822e-01, -1.1943e+00, -5.4602e-01,  2.9061e-01,\n",
       "            7.5207e-02,  9.6476e-01, -1.0579e+00, -6.1500e-02,  1.0543e-01,\n",
       "            2.5360e-01, -1.9974e-01, -8.4838e-02,  2.6057e-01,  1.4643e-02,\n",
       "           -8.0372e-02,  3.4252e-02, -1.4169e-01,  2.5965e-01,  4.7847e-01,\n",
       "           -7.4970e-01,  6.4909e-01,  5.4875e-01,  2.4038e-01, -3.8910e-01,\n",
       "           -1.0068e+00, -1.1566e+00, -9.5205e-01],\n",
       "          [-1.0483e+00, -1.0914e+00, -4.8994e-01, -2.9378e-01,  2.5544e-01,\n",
       "           -5.7599e-02,  6.3444e-01, -7.3980e-01,  3.5369e-01,  8.8031e-02,\n",
       "           -9.8385e-02,  4.2929e-01, -1.1822e-01,  3.4708e-01,  2.2663e-01,\n",
       "            1.3867e-01,  3.3462e-01,  1.3711e-01, -1.5930e-02,  6.8878e-02,\n",
       "           -9.9582e-01,  1.0128e+00,  2.1796e-01,  2.2261e-01, -5.4406e-01,\n",
       "           -1.1528e+00, -1.0637e+00, -1.0352e+00],\n",
       "          [-7.4719e-01, -1.0751e+00, -1.0789e+00,  6.8468e-03,  3.0280e-01,\n",
       "            1.9539e-01,  6.5463e-01, -1.0760e+00, -4.7113e-01, -1.4039e-01,\n",
       "            8.6699e-02,  1.4729e-01, -5.7932e-02, -2.6116e-02,  1.7807e-01,\n",
       "            5.8309e-01,  1.8868e-01, -5.9476e-02, -2.8959e-01, -8.5720e-02,\n",
       "           -1.0388e+00,  3.2291e-01,  4.9386e-01,  8.4977e-02, -3.9388e-01,\n",
       "           -1.1806e+00, -1.0197e+00, -1.0059e+00],\n",
       "          [-7.6095e-01, -7.8806e-01, -6.5907e-01, -4.2818e-01,  3.8267e-01,\n",
       "            1.4809e-01,  9.7617e-02, -1.0670e+00, -8.2788e-01, -1.2880e+00,\n",
       "           -1.0017e+00, -9.4030e-01, -1.1220e+00, -1.1958e+00, -9.0160e-01,\n",
       "           -9.0730e-01, -1.0989e+00, -9.8544e-01, -1.1318e+00, -9.2552e-01,\n",
       "           -1.0640e+00,  6.4101e-01,  2.1830e-01,  4.9144e-02, -3.1151e-01,\n",
       "           -1.1081e+00, -9.5878e-01, -1.1180e+00],\n",
       "          [-9.7718e-01, -9.7822e-01, -1.3035e+00, -2.0061e-01,  6.4591e-01,\n",
       "            8.4784e-02,  5.7325e-01, -1.2356e+00, -9.3047e-01, -8.6661e-01,\n",
       "           -1.2769e+00, -9.4339e-01, -1.1300e+00, -9.8079e-01, -8.4200e-01,\n",
       "           -1.1156e+00, -8.5830e-01, -9.5636e-01, -1.1404e+00, -8.3283e-01,\n",
       "           -1.0273e+00,  9.5664e-01,  6.3183e-01,  5.5158e-02, -2.7685e-01,\n",
       "           -8.8769e-01, -9.6897e-01, -1.0579e+00],\n",
       "          [-9.2504e-01, -8.7375e-01, -1.1490e+00, -5.6786e-01, -8.4212e-01,\n",
       "           -5.3313e-01, -2.5705e-01, -1.0326e+00, -1.0720e+00, -1.1558e+00,\n",
       "           -1.2917e+00, -1.3542e+00, -9.4881e-01, -8.3981e-01, -1.1011e+00,\n",
       "           -8.3138e-01, -5.5897e-01, -9.1477e-01, -1.0872e+00, -1.1273e+00,\n",
       "           -1.0992e+00, -4.9909e-01, -5.7936e-01, -7.6379e-01, -8.0010e-01,\n",
       "           -1.0583e+00, -5.7206e-01, -1.0949e+00]]], device='cuda:0'),\n",
       " tensor([[[-0.0985,  0.3373, -1.5660, -1.1753,  2.0097, -1.1007, -0.4830,\n",
       "           -0.0033, -0.5393,  0.4805, -1.1057,  0.0863, -1.6178, -1.4492,\n",
       "           -1.0712, -0.5380,  2.2697, -0.9590, -0.2973, -0.0684,  1.3869,\n",
       "            2.0145, -0.6033,  0.7270, -0.8003,  0.5942, -0.8569, -0.6344],\n",
       "          [ 0.6463,  1.4586, -0.7357, -0.0939,  0.7087,  0.6002,  0.1404,\n",
       "           -0.5128,  1.6741,  1.0834, -0.3043,  0.9351, -1.1022,  0.0974,\n",
       "            0.2911,  0.4350, -0.3598, -0.1248,  0.4832,  0.0893,  2.1373,\n",
       "            0.6388,  0.4443,  1.7206, -0.4253, -0.3388, -1.0701,  0.1890],\n",
       "          [-0.8329, -0.2611, -2.1459, -0.6366, -0.5693,  1.3198,  1.2159,\n",
       "           -0.1599,  1.4272,  1.1255,  1.5336, -0.9607,  1.3649,  0.0961,\n",
       "            0.7711,  1.3698,  1.4581,  0.8434, -1.2299,  0.8538,  1.7123,\n",
       "            0.2723, -1.5698, -1.7295,  0.9117, -1.4247,  1.1779,  0.1397],\n",
       "          [ 0.5978, -1.9437, -0.9495,  1.2577,  0.3788,  1.1236,  0.7138,\n",
       "            2.1568, -0.2990,  0.7177, -0.5089,  0.8373,  1.1196, -1.8884,\n",
       "            1.3838, -0.9243, -0.0726, -1.4781,  1.2108, -1.4569, -0.0172,\n",
       "           -0.1773, -1.0558, -1.5904,  2.2214, -1.3180,  0.0373, -1.0706],\n",
       "          [-0.2448, -0.1052, -0.5849,  0.5543,  1.0269,  0.2815,  0.6728,\n",
       "            0.2082,  0.6950,  1.0963, -0.0523, -0.9429,  0.2695,  1.0552,\n",
       "            0.7596,  0.3035, -0.1057, -1.0102,  1.1891,  0.2700, -0.3812,\n",
       "            1.1551,  0.1177, -0.3598, -0.0867,  1.1861, -0.6153,  0.3413],\n",
       "          [ 0.6060,  0.1737, -0.3675, -0.4768, -0.2894,  0.6291,  0.9736,\n",
       "            0.6956, -0.1622,  1.0326,  1.2287,  0.9204, -1.3601, -0.1089,\n",
       "            1.0909, -0.8434,  0.8987,  0.1911, -0.9412,  0.1732,  0.3977,\n",
       "           -0.5661,  1.0245, -0.3946, -1.8689,  1.1629,  2.3688,  1.2554],\n",
       "          [-2.2356, -2.2024,  2.0090,  0.9895,  1.9771, -0.2947, -0.5523,\n",
       "           -0.2682,  1.9109,  1.2779,  1.5878,  1.4640, -1.7704, -0.2759,\n",
       "            0.8057, -0.5660, -0.0203, -1.6657,  0.1662,  0.5584, -1.3060,\n",
       "           -0.1352,  0.4574,  0.4139,  0.7912, -0.1365, -0.3074, -0.2729],\n",
       "          [ 0.6823,  1.0707, -0.8251, -0.1790, -0.6650, -0.5550, -0.7147,\n",
       "            0.3312,  2.3079, -0.7945, -2.0641,  2.0437, -1.5267,  0.3101,\n",
       "            1.2470,  1.2183, -0.3076,  0.3769, -0.4619,  0.0792, -0.2172,\n",
       "            0.7594, -1.3003,  0.4227,  2.0714, -0.9466,  0.4655, -0.5196],\n",
       "          [ 2.4225, -0.7582, -0.7607,  0.1475,  0.3182, -0.1290,  0.5446,\n",
       "           -0.2580, -1.2568,  0.2041,  0.0684,  0.0839, -0.0670,  0.1847,\n",
       "            0.6942,  0.2430, -1.0532, -0.9667,  0.8020,  0.3875, -0.7683,\n",
       "            1.1638, -0.2110, -0.4978, -0.1245, -0.9366,  0.9795, -0.7451],\n",
       "          [-1.3637, -0.4136,  0.5538,  1.2360, -0.3714, -0.1021, -0.1104,\n",
       "            0.1661, -0.3521,  0.4386, -0.5716,  1.1721, -0.1660,  1.5563,\n",
       "            0.5076, -1.0741, -0.0351, -0.0783, -0.2130,  0.7167, -1.9260,\n",
       "            0.5751, -0.9693,  1.5906, -1.2385,  0.4898,  0.2403, -1.1374],\n",
       "          [-1.5616, -1.1016,  1.5795,  0.2597,  0.8947, -0.3038, -0.6416,\n",
       "           -0.3290, -0.9309, -0.2853, -0.1092,  0.0446, -0.6355, -0.8759,\n",
       "           -0.6198,  1.3557,  1.8927, -0.6464,  0.9519, -1.1460, -0.0426,\n",
       "            0.6733,  0.1734, -0.0162,  0.1399,  0.7937, -1.0271,  0.9699],\n",
       "          [ 0.7253,  1.4824, -0.4665,  1.0523,  1.8249,  0.9688, -0.6438,\n",
       "           -0.7532,  1.0329,  0.2865,  0.0151,  0.8926, -0.4693, -1.5283,\n",
       "           -0.6976,  0.4122,  0.5440,  1.0850, -0.8046,  1.0984,  0.1760,\n",
       "           -0.0909, -0.0585,  0.3466, -2.8722, -0.6827, -0.7227,  0.2214],\n",
       "          [-1.4510,  1.3946,  1.0339,  0.8623, -0.7662, -1.8798, -0.5092,\n",
       "            0.8852,  0.3826, -0.5523, -0.3199,  1.3549, -1.2609,  1.9030,\n",
       "            0.0560, -0.7584,  0.4364, -0.8038, -0.9547,  0.2442,  0.6130,\n",
       "           -0.1153,  0.2917, -0.6760,  0.9808,  1.7223, -1.5231, -0.1894],\n",
       "          [ 0.0934, -1.0621,  0.4304, -1.1869,  0.5306,  1.2499,  0.4154,\n",
       "           -0.5888,  1.9555,  0.5586,  0.1420,  1.7958, -1.5797,  0.0197,\n",
       "           -0.6141,  0.2510, -0.9941,  1.1440,  0.0562,  0.3438,  0.6837,\n",
       "            2.6484,  1.5276,  1.7871,  1.1205,  0.0757,  1.9842,  0.7772],\n",
       "          [-1.2741,  0.1350,  0.8731, -1.4882,  0.1330, -0.5580,  1.6035,\n",
       "           -2.2215,  1.3250, -0.3804, -0.7040,  0.8837,  0.6007, -1.6758,\n",
       "            0.4927, -1.9612,  1.6702,  1.1066, -0.4973,  0.5204, -0.1438,\n",
       "            1.0542, -1.7201, -0.2455,  1.1714, -1.5230, -0.7081,  0.4026],\n",
       "          [-0.7224, -0.7863, -0.8130, -1.4963, -0.4488, -0.7664, -0.9413,\n",
       "           -0.1778, -1.0361,  0.3841,  0.6962,  0.5820,  1.4679,  0.1992,\n",
       "           -0.7813, -0.4979, -0.8330, -1.5563,  2.2306, -0.5038, -0.6341,\n",
       "           -0.1147, -1.4503, -0.2234,  1.7348,  0.2336,  0.5897,  0.2112],\n",
       "          [-0.1944, -0.6360, -0.1655, -0.4721, -0.3232, -1.6642,  0.2890,\n",
       "           -0.4022,  1.0740, -0.3809, -0.0219, -0.4877, -2.3367, -0.1656,\n",
       "           -0.2577,  0.5285, -0.1793, -0.6861, -0.4652,  0.0991,  0.2123,\n",
       "            0.6097,  0.9232, -0.7487, -0.9953, -0.5523, -0.4805,  0.6890],\n",
       "          [ 1.6655,  2.1434, -0.4715, -0.8961,  0.1808, -1.6989,  0.2567,\n",
       "            0.2034,  1.3876,  0.2784, -0.5948,  0.2882,  2.2120,  1.0593,\n",
       "           -0.8512,  1.3883, -1.7128,  0.1858,  0.3041, -0.3155,  0.4685,\n",
       "           -1.3029,  0.1162, -0.5817, -0.7663,  1.3488, -0.5541, -1.0316],\n",
       "          [-0.3730, -1.0237,  0.6529,  0.4784,  0.1664,  1.0948,  0.0756,\n",
       "           -0.0487, -1.5078, -1.2597,  1.5994,  0.8697,  1.3423,  0.2405,\n",
       "            2.1732,  0.5097, -0.0595, -0.8010,  0.6369, -0.2672, -1.0163,\n",
       "           -1.0958, -0.5270,  1.6482,  0.6379,  0.4063, -0.0692,  1.0036],\n",
       "          [-0.0319, -1.8025, -1.3843, -0.0589, -1.6707, -1.2037, -0.3445,\n",
       "            0.8477,  0.7103,  0.4486, -0.9647, -0.7363, -0.6084,  0.1053,\n",
       "            0.1809,  1.0454, -1.1328,  0.4774, -1.2226,  0.3785,  0.4581,\n",
       "           -1.4325, -1.3822,  1.9443, -1.4397,  1.0939, -1.4454,  0.6425],\n",
       "          [ 1.7464, -0.1799,  0.2771,  0.7786,  0.7935,  1.0897, -0.2630,\n",
       "            0.9514,  0.2199, -0.8711, -0.2682, -1.2453, -0.6169, -1.5197,\n",
       "           -1.0919,  1.0656,  0.4702, -0.1048,  0.0345,  1.7473,  1.2188,\n",
       "            1.2141, -0.1163, -0.3924, -0.8182, -0.0062,  0.5917, -1.5295],\n",
       "          [ 0.8592,  0.4699, -0.6862, -1.0043, -1.1649,  0.3510, -0.5532,\n",
       "            0.5576, -0.5392, -0.2463, -0.1489,  1.9095, -0.7148,  1.7515,\n",
       "            0.5388, -1.5551,  1.4886,  0.3580,  2.3423,  0.1660,  0.0103,\n",
       "            0.2568, -2.2549, -0.7324, -0.4841,  1.9013, -0.2823, -0.4800],\n",
       "          [ 0.7515,  0.1541, -1.2097,  0.4379, -0.0392, -0.7034,  1.0884,\n",
       "           -1.2693,  0.5595,  0.4082,  1.1302, -1.8454, -0.6909,  0.5904,\n",
       "           -0.5178, -0.7989, -0.3153, -1.2424,  1.2544,  2.8754,  0.5554,\n",
       "           -1.0027,  1.7196, -0.5079,  1.1213, -0.1267, -0.9919,  0.1897],\n",
       "          [-0.3660, -0.6151,  2.8591,  1.2703, -0.4655, -1.2921, -0.1503,\n",
       "            0.3003,  0.7713, -0.5401, -1.3046,  1.8774, -1.1514,  0.8224,\n",
       "            0.1266, -0.1584,  1.0182,  0.0558, -1.6315, -0.5615, -0.1077,\n",
       "            1.5446, -0.5035, -0.1643, -0.3093, -0.9698, -0.4552, -0.2904],\n",
       "          [ 1.3731, -0.5208, -0.5431,  2.3375,  0.1204, -0.0092,  0.9034,\n",
       "           -0.5711, -0.8697, -0.5209,  0.2554,  0.5162, -0.4908, -1.0656,\n",
       "           -0.4216,  2.0518, -0.0926, -0.6782, -1.6951,  0.5981, -0.3115,\n",
       "           -0.7004,  0.9563, -0.2900,  0.6475, -1.1304, -0.2010, -0.1212],\n",
       "          [ 1.2937,  1.1371,  1.8822,  0.0924,  1.2511, -0.2824, -1.6449,\n",
       "           -0.4745,  0.9070, -1.7507, -0.0973,  0.2577, -0.7917, -1.2180,\n",
       "            0.4812,  0.4482, -0.6584, -0.0031, -0.8485,  0.3430, -0.4569,\n",
       "            0.3339, -0.6354, -0.0508,  1.1233, -0.7117,  0.1509, -0.7687],\n",
       "          [ 0.0446,  0.0386, -1.8402,  0.5145,  1.6562, -1.2728,  0.0317,\n",
       "           -1.4482,  0.3144,  0.6833, -1.6869,  0.2398, -0.8382,  0.0238,\n",
       "            0.8255, -0.7552,  0.7313,  0.1649, -0.8983,  0.8784, -0.2451,\n",
       "            1.4877,  1.6195, -1.3993, -0.0598,  0.5615,  0.0920, -0.4220],\n",
       "          [ 0.3458,  0.6421, -0.9479,  1.3381, -1.5848,  0.1109,  1.3486,\n",
       "           -0.2753, -0.5033, -1.0765, -1.7720, -2.1329,  0.2085,  0.7935,\n",
       "           -0.7161,  0.8422,  2.4603,  0.3605, -0.5910, -0.8226, -0.6603,\n",
       "            0.2629,  0.4685, -0.1953,  0.4874, -0.4239,  2.3848, -0.6357]]],\n",
       "        device='cuda:0'))"
      ]
     },
     "execution_count": 15,
     "metadata": {},
     "output_type": "execute_result"
    }
   ],
   "source": [
    "\n",
    "mache_noise_direkt(img_tensor, 4, 5)"
   ]
  },
  {
   "cell_type": "code",
   "execution_count": 16,
   "id": "68cc844a",
   "metadata": {},
   "outputs": [],
   "source": [
    "# U-net architecture: Eingabe (Bild) -> Ausgabe (Segmentation map)"
   ]
  },
  {
   "cell_type": "code",
   "execution_count": 17,
   "id": "6261495e",
   "metadata": {},
   "outputs": [],
   "source": [
    "import torch.nn as nn\n",
    "\n",
    "class DoubleConv(nn.Module):\n",
    "    \"\"\"(convolution => [BN] => ReLU) * 2\"\"\"\n",
    "\n",
    "    def __init__(self, in_channels, out_channels, mid_channels=None):\n",
    "        super().__init__()\n",
    "        if not mid_channels:\n",
    "            mid_channels = out_channels\n",
    "        self.double_conv = nn.Sequential(\n",
    "            nn.Conv2d(in_channels, mid_channels, kernel_size=3, padding=1, bias=False),\n",
    "            nn.BatchNorm2d(mid_channels),\n",
    "            nn.ReLU(inplace=True),\n",
    "            nn.Conv2d(mid_channels, out_channels, kernel_size=3, padding=1, bias=False),\n",
    "            nn.BatchNorm2d(out_channels),\n",
    "            nn.ReLU(inplace=True)\n",
    "        )\n",
    "\n",
    "    def forward(self, x):\n",
    "        return self.double_conv(x)\n"
   ]
  },
  {
   "cell_type": "code",
   "execution_count": 18,
   "id": "88be8ba8",
   "metadata": {},
   "outputs": [],
   "source": [
    "class Down(nn.Module):\n",
    "    \"\"\"Downscaling with maxpool then double conv\"\"\"\n",
    "\n",
    "    def __init__(self, in_channels, out_channels):\n",
    "        super().__init__()\n",
    "        self.maxpool_conv = nn.Sequential(\n",
    "            nn.MaxPool2d(2),\n",
    "            DoubleConv(in_channels, out_channels)\n",
    "        )\n",
    "\n",
    "    def forward(self, x):\n",
    "        return self.maxpool_conv(x)"
   ]
  },
  {
   "cell_type": "code",
   "execution_count": 19,
   "id": "20fdd1cc",
   "metadata": {},
   "outputs": [],
   "source": [
    "# Comments inspired from https://distill.pub/2016/deconv-checkerboard/\n",
    "\n",
    "#Stride 1 deconvolutions — which we often see as the last layer in successful models \n",
    "#(eg. [2])  — are quite effective at dampening artifacts. \n",
    "#In particular, deconvolution has uneven overlap when the kernel size \n",
    "#(the output window size) is not divisible by the stride (the spacing between points on the top).\n",
    "\n",
    "class Up(nn.Module):\n",
    "    \"\"\"Upscaling then double conv\"\"\"\n",
    "\n",
    "    def __init__(self, in_channels, out_channels):\n",
    "        super().__init__()\n",
    "\n",
    "        #Another approach is to separate out upsampling to a higher resolution from convolution to compute features.\n",
    "        self.up = nn.Upsample(scale_factor=2, mode='bilinear', align_corners=True)\n",
    "        self.conv = DoubleConv(in_channels, out_channels, in_channels // 2)\n",
    "\n",
    "    def forward(self, x1, x2):\n",
    "        x1 = self.up(x1)\n",
    "        # input is CHW\n",
    "        #Diese Zeilen berechnen die Größenunterschiede\n",
    "        #in den Höhen- und Breitenrichtungen zwischen x2 und dem upgesampleten x1.\n",
    "        diffY = x2.size()[2] - x1.size()[2]\n",
    "        diffX = x2.size()[3] - x1.size()[3]\n",
    "        \n",
    "        #Diese Zeile fügt x1 an den Rändern Polster hinzu, \n",
    "        #sodass es die gleiche räumliche Größe wie x2 hat. Das \n",
    "        #Padding sorgt dafür, dass die beiden Feature-Maps aneinander angehängt werden können.\n",
    "\n",
    "        x1 = F.pad(x1, [diffX // 2, diffX - diffX // 2,\n",
    "                        diffY // 2, diffY - diffY // 2])\n",
    "\n",
    "        x = torch.cat([x2, x1], dim=1)\n",
    "        return self.conv(x)"
   ]
  },
  {
   "cell_type": "code",
   "execution_count": 20,
   "id": "81b67c57",
   "metadata": {},
   "outputs": [],
   "source": [
    "class OutConv(nn.Module):\n",
    "    def __init__(self, in_channels, out_channels):\n",
    "        super(OutConv, self).__init__()\n",
    "        self.conv = nn.Conv2d(in_channels, out_channels, kernel_size=1)\n",
    "\n",
    "    def forward(self, x):\n",
    "        return self.conv(x)"
   ]
  },
  {
   "cell_type": "code",
   "execution_count": 21,
   "id": "1b8cf438",
   "metadata": {},
   "outputs": [],
   "source": [
    "def get_sinusoid_encoding_table(n_position, d_hid):\n",
    "    ''' Sinusoid position encoding table '''\n",
    "\n",
    "    def get_position_angle_vec(position):\n",
    "        return [position / np.power(10000, 2 * (hid_j // 2) / d_hid) for hid_j in range(d_hid)]\n",
    "\n",
    "    sinusoid_table = np.array([get_position_angle_vec(pos_i) for pos_i in range(n_position)])\n",
    "    sinusoid_table[:, 0::2] = np.sin(sinusoid_table[:, 0::2])  # dim 2i\n",
    "    sinusoid_table[:, 1::2] = np.cos(sinusoid_table[:, 1::2])  # dim 2i+1\n",
    "\n",
    "    return torch.FloatTensor(sinusoid_table)#.unsqueeze(0)"
   ]
  },
  {
   "cell_type": "code",
   "execution_count": 22,
   "id": "13b029e4",
   "metadata": {},
   "outputs": [],
   "source": [
    "def concat_pos_param(x, enc):\n",
    "    pos_enc_reshape = enc.reshape(1,-1,1,1).expand((x.shape[0],-1,x.shape[2],x.shape[3]))\n",
    "    feature_map_with_encoding = torch.cat([x, pos_enc_reshape], dim=1)\n",
    "    return feature_map_with_encoding"
   ]
  },
  {
   "cell_type": "code",
   "execution_count": 23,
   "id": "07694f7e",
   "metadata": {},
   "outputs": [],
   "source": [
    "class UNet(nn.Module):\n",
    "    def __init__(self, n_channels, n_classes, t_max=1000, d_hid=32):\n",
    "        super(UNet, self).__init__()\n",
    "        self.n_channels = n_channels\n",
    "        self.n_classes = n_classes\n",
    "        \n",
    "        factor = 2\n",
    "        self.pos_enc = get_sinusoid_encoding_table(t_max, d_hid)#nn.Parameter(get_sinusoid_encoding_table(t_max, d_hid), requires_grad=False)\n",
    "        self.pos_enc.requires_grad = False \n",
    "        self.inc = (DoubleConv(n_channels + d_hid, 64))\n",
    "        self.down1 = (Down(64 + d_hid, 128))\n",
    "        self.down2 = (Down(128 + d_hid, 256 // factor))\n",
    "        #self.down3 = (Down(256, 512))\n",
    "        #self.down4 = (Down(512, 1024 // factor))\n",
    "        #self.up1 = (Up(1024, 512 // factor))\n",
    "        #self.up2 = (Up(512, 256 // factor))\n",
    "        self.up3 = (Up(256, 128 // factor))\n",
    "        self.up4 = (Up(128, 64))\n",
    "        self.outc = (OutConv(64, n_channels))\n",
    "\n",
    "    def forward(self, x, t):\n",
    "        enc = self.pos_enc[t]\n",
    "        \n",
    "        x1 = self.inc(concat_pos_param(x, enc))\n",
    "        x2 = self.down1(concat_pos_param(x1, enc))\n",
    "        x3 = self.down2(concat_pos_param(x2, enc))\n",
    "        #x4 = self.down3(x3)\n",
    "        #x5 = self.down4(x4)\n",
    "        #x = self.up1(x5, x4)\n",
    "        #x = self.up2(x, x3)\n",
    "        x = self.up3(x3, x2)\n",
    "        x = self.up4(x, x1)\n",
    "        logits = self.outc(x)\n",
    "        return logits\n",
    "    "
   ]
  },
  {
   "cell_type": "code",
   "execution_count": 24,
   "id": "479d19ca",
   "metadata": {},
   "outputs": [],
   "source": [
    "unet = UNet(1,100)\n",
    "dataiter = iter(trainloader)\n",
    "i, data = next(dataiter)\n"
   ]
  },
  {
   "cell_type": "code",
   "execution_count": 25,
   "id": "ee21d3ce",
   "metadata": {},
   "outputs": [
    {
     "data": {
      "image/png": "[encoded data removed]",
      "text/plain": [
       "<Figure size 640x480 with 1 Axes>"
      ]
     },
     "metadata": {},
     "output_type": "display_data"
    }
   ],
   "source": [
    "for j in range(1):\n",
    "    img = unet(i, 5).detach().numpy()[0, j, :, :]\n",
    "    plt.imshow(img, cmap='gray')  # `cmap='gray'` wird verwendet, da es sich um ein Graustufenbild handelt\n",
    "    plt.show()"
   ]
  },
  {
   "cell_type": "code",
   "execution_count": 26,
   "id": "9253acb1",
   "metadata": {},
   "outputs": [
    {
     "data": {
      "image/png": "[encoded data removed]",
      "text/plain": [
       "<Figure size 640x480 with 1 Axes>"
      ]
     },
     "metadata": {},
     "output_type": "display_data"
    }
   ],
   "source": [
    "plt.imshow(i[0, 0, :, :], cmap='gray')\n",
    "plt.show()\n"
   ]
  },
  {
   "cell_type": "code",
   "execution_count": 27,
   "id": "4910a2d5",
   "metadata": {},
   "outputs": [],
   "source": [
    "learning_rate = 0.002\n",
    "criterion = torch.nn.MSELoss()\n",
    "optimizer = torch.optim.Adam(unet.parameters(), lr=learning_rate, weight_decay = 0.001)\n",
    "\n",
    "def evaluate(net, dataloader, device):\n",
    "    net.eval()\n",
    "    num_val_batches = len(dataloader)\n",
    "    \n",
    "\n",
    "    \n",
    "    progress_bar = tqdm(dataloader, total=num_val_batches, desc='Validation round', unit='batch', leave=False)\n",
    "    for batch in progress_bar:\n",
    "        image, mask_true = batch[0], batch[1]\n",
    "\n",
    "            # move images and labels to correct device and type\n",
    "        image = image.to(dtype=torch.float32, memory_format=torch.channels_last).cpu()\n",
    "        t = np.random.randint(1000)\n",
    "        noisy_image, eps = mache_noise_direkt(image, t)\n",
    "        mask_true = mask_true.to(dtype=torch.long).cpu()\n",
    "        \n",
    "        mask_pred = net(noisy_image.cpu(),t)\n",
    "        \n",
    "        loss = criterion(mask_pred, eps)\n",
    "        print(loss.item())\n",
    "        \n",
    "\n",
    "\n",
    "    net.train()\n",
    "    return "
   ]
  },
  {
   "cell_type": "code",
   "execution_count": null,
   "id": "a5893d20",
   "metadata": {},
   "outputs": [],
   "source": []
  },
  {
   "cell_type": "code",
   "execution_count": 28,
   "id": "dc45e762",
   "metadata": {},
   "outputs": [],
   "source": [
    "def train_model(\n",
    "        model,\n",
    "        device,\n",
    "        epochs: int = 2,\n",
    "        batch_size: int = 2048,\n",
    "        learning_rate: float = 1e-4,\n",
    "        val_percent: float = 0.1,\n",
    "        img_scale: float = 0.5,\n",
    "        weight_decay: float = 1e-8,\n",
    "        gradient_clipping: float = 1.0,\n",
    "):\n",
    "    \n",
    "    \n",
    "    progress_bar = tqdm(range(epochs), total=epochs, position=0, leave=True)\n",
    "    for epoch in progress_bar:\n",
    "        model.train()\n",
    "        running_loss = 0.0\n",
    "        for i, data in enumerate(trainloader):\n",
    "            image, mask_true = data\n",
    "            progress_bar.set_postfix({f'T of {[len(trainloader)]}' : i+1}, refresh=True)\n",
    "            optimizer.zero_grad()\n",
    "                # move images and labels to correct device and type\n",
    "            image = image.to(dtype=torch.float32, memory_format=torch.channels_last).cpu()\n",
    "            t = 50\n",
    "            noisy_image, eps = mache_noise_direkt(image, t)\n",
    "            mask_true = mask_true.to(dtype=torch.long).cpu()\n",
    "\n",
    "            mask_pred = model(noisy_image.cpu(),t)\n",
    "\n",
    "            loss = criterion(mask_pred, eps)\n",
    "\n",
    "            loss.backward()\n",
    "            optimizer.step()\n",
    "            \n",
    "            running_loss += loss.item()\n",
    "            if i%2==0:\n",
    "                print(f'[{epoch + 1}, {i + 1:5d}] running_loss: {running_loss / 10:.3f}, ')\n",
    "                running_loss = 0.0\n",
    "                \n",
    "    evaluate(model, trainloader, device) # TODO: hier noch valloader erstellen.\n"
   ]
  },
  {
   "cell_type": "code",
   "execution_count": 29,
   "id": "73ef637a",
   "metadata": {},
   "outputs": [
    {
     "name": "stderr",
     "output_type": "stream",
     "text": [
      "  0%|                                                                                                                                                                                                                                                                                      | 0/2 [00:05<?, ?it/s, T of [59]=2]"
     ]
    },
    {
     "name": "stdout",
     "output_type": "stream",
     "text": [
      "[1,     1] running_loss: 0.112, \n"
     ]
    },
    {
     "name": "stderr",
     "output_type": "stream",
     "text": [
      "  0%|                                                                                                                                                                                                                                                                                      | 0/2 [00:16<?, ?it/s, T of [59]=4]"
     ]
    },
    {
     "name": "stdout",
     "output_type": "stream",
     "text": [
      "[1,     3] running_loss: 0.245, \n"
     ]
    },
    {
     "name": "stderr",
     "output_type": "stream",
     "text": [
      "  0%|                                                                                                                                                                                                                                                                                      | 0/2 [00:27<?, ?it/s, T of [59]=6]"
     ]
    },
    {
     "name": "stdout",
     "output_type": "stream",
     "text": [
      "[1,     5] running_loss: 0.169, \n"
     ]
    },
    {
     "name": "stderr",
     "output_type": "stream",
     "text": [
      "  0%|                                                                                                                                                                                                                                                                                      | 0/2 [00:37<?, ?it/s, T of [59]=8]"
     ]
    },
    {
     "name": "stdout",
     "output_type": "stream",
     "text": [
      "[1,     7] running_loss: 0.133, \n"
     ]
    },
    {
     "name": "stderr",
     "output_type": "stream",
     "text": [
      "  0%|                                                                                                                                                                                                                                                                                     | 0/2 [00:48<?, ?it/s, T of [59]=10]"
     ]
    },
    {
     "name": "stdout",
     "output_type": "stream",
     "text": [
      "[1,     9] running_loss: 0.111, \n"
     ]
    },
    {
     "name": "stderr",
     "output_type": "stream",
     "text": [
      "  0%|                                                                                                                                                                                                                                                                                     | 0/2 [00:58<?, ?it/s, T of [59]=12]"
     ]
    },
    {
     "name": "stdout",
     "output_type": "stream",
     "text": [
      "[1,    11] running_loss: 0.097, \n"
     ]
    },
    {
     "name": "stderr",
     "output_type": "stream",
     "text": [
      "  0%|                                                                                                                                                                                                                                                                                     | 0/2 [01:09<?, ?it/s, T of [59]=14]"
     ]
    },
    {
     "name": "stdout",
     "output_type": "stream",
     "text": [
      "[1,    13] running_loss: 0.087, \n"
     ]
    },
    {
     "name": "stderr",
     "output_type": "stream",
     "text": [
      "  0%|                                                                                                                                                                                                                                                                                     | 0/2 [01:20<?, ?it/s, T of [59]=16]"
     ]
    },
    {
     "name": "stdout",
     "output_type": "stream",
     "text": [
      "[1,    15] running_loss: 0.077, \n"
     ]
    },
    {
     "name": "stderr",
     "output_type": "stream",
     "text": [
      "  0%|                                                                                                                                                                                                                                                                                     | 0/2 [01:33<?, ?it/s, T of [59]=18]"
     ]
    },
    {
     "name": "stdout",
     "output_type": "stream",
     "text": [
      "[1,    17] running_loss: 0.072, \n"
     ]
    },
    {
     "name": "stderr",
     "output_type": "stream",
     "text": [
      "  0%|                                                                                                                                                                                                                                                                                     | 0/2 [01:45<?, ?it/s, T of [59]=20]"
     ]
    },
    {
     "name": "stdout",
     "output_type": "stream",
     "text": [
      "[1,    19] running_loss: 0.070, \n"
     ]
    },
    {
     "name": "stderr",
     "output_type": "stream",
     "text": [
      "  0%|                                                                                                                                                                                                                                                                                     | 0/2 [01:55<?, ?it/s, T of [59]=22]"
     ]
    },
    {
     "name": "stdout",
     "output_type": "stream",
     "text": [
      "[1,    21] running_loss: 0.067, \n"
     ]
    },
    {
     "name": "stderr",
     "output_type": "stream",
     "text": [
      "  0%|                                                                                                                                                                                                                                                                                     | 0/2 [02:06<?, ?it/s, T of [59]=24]"
     ]
    },
    {
     "name": "stdout",
     "output_type": "stream",
     "text": [
      "[1,    23] running_loss: 0.063, \n"
     ]
    },
    {
     "name": "stderr",
     "output_type": "stream",
     "text": [
      "  0%|                                                                                                                                                                                                                                                                                     | 0/2 [02:16<?, ?it/s, T of [59]=26]"
     ]
    },
    {
     "name": "stdout",
     "output_type": "stream",
     "text": [
      "[1,    25] running_loss: 0.061, \n"
     ]
    },
    {
     "name": "stderr",
     "output_type": "stream",
     "text": [
      "  0%|                                                                                                                                                                                                                                                                                     | 0/2 [02:27<?, ?it/s, T of [59]=28]"
     ]
    },
    {
     "name": "stdout",
     "output_type": "stream",
     "text": [
      "[1,    27] running_loss: 0.060, \n"
     ]
    },
    {
     "name": "stderr",
     "output_type": "stream",
     "text": [
      "  0%|                                                                                                                                                                                                                                                                                     | 0/2 [02:37<?, ?it/s, T of [59]=30]"
     ]
    },
    {
     "name": "stdout",
     "output_type": "stream",
     "text": [
      "[1,    29] running_loss: 0.058, \n"
     ]
    },
    {
     "name": "stderr",
     "output_type": "stream",
     "text": [
      "  0%|                                                                                                                                                                                                                                                                                     | 0/2 [02:48<?, ?it/s, T of [59]=32]"
     ]
    },
    {
     "name": "stdout",
     "output_type": "stream",
     "text": [
      "[1,    31] running_loss: 0.057, \n"
     ]
    },
    {
     "name": "stderr",
     "output_type": "stream",
     "text": [
      "  0%|                                                                                                                                                                                                                                                                                     | 0/2 [02:58<?, ?it/s, T of [59]=34]"
     ]
    },
    {
     "name": "stdout",
     "output_type": "stream",
     "text": [
      "[1,    33] running_loss: 0.056, \n"
     ]
    },
    {
     "name": "stderr",
     "output_type": "stream",
     "text": [
      "  0%|                                                                                                                                                                                                                                                                                     | 0/2 [03:09<?, ?it/s, T of [59]=36]"
     ]
    },
    {
     "name": "stdout",
     "output_type": "stream",
     "text": [
      "[1,    35] running_loss: 0.054, \n"
     ]
    },
    {
     "name": "stderr",
     "output_type": "stream",
     "text": [
      "  0%|                                                                                                                                                                                                                                                                                     | 0/2 [03:19<?, ?it/s, T of [59]=38]"
     ]
    },
    {
     "name": "stdout",
     "output_type": "stream",
     "text": [
      "[1,    37] running_loss: 0.054, \n"
     ]
    },
    {
     "name": "stderr",
     "output_type": "stream",
     "text": [
      "  0%|                                                                                                                                                                                                                                                                                     | 0/2 [03:30<?, ?it/s, T of [59]=40]"
     ]
    },
    {
     "name": "stdout",
     "output_type": "stream",
     "text": [
      "[1,    39] running_loss: 0.052, \n"
     ]
    },
    {
     "name": "stderr",
     "output_type": "stream",
     "text": [
      "  0%|                                                                                                                                                                                                                                                                                     | 0/2 [03:40<?, ?it/s, T of [59]=42]"
     ]
    },
    {
     "name": "stdout",
     "output_type": "stream",
     "text": [
      "[1,    41] running_loss: 0.052, \n"
     ]
    },
    {
     "name": "stderr",
     "output_type": "stream",
     "text": [
      "  0%|                                                                                                                                                                                                                                                                                     | 0/2 [03:51<?, ?it/s, T of [59]=44]"
     ]
    },
    {
     "name": "stdout",
     "output_type": "stream",
     "text": [
      "[1,    43] running_loss: 0.052, \n"
     ]
    },
    {
     "name": "stderr",
     "output_type": "stream",
     "text": [
      "  0%|                                                                                                                                                                                                                                                                                     | 0/2 [04:01<?, ?it/s, T of [59]=46]"
     ]
    },
    {
     "name": "stdout",
     "output_type": "stream",
     "text": [
      "[1,    45] running_loss: 0.051, \n"
     ]
    },
    {
     "name": "stderr",
     "output_type": "stream",
     "text": [
      "  0%|                                                                                                                                                                                                                                                                                     | 0/2 [04:12<?, ?it/s, T of [59]=48]"
     ]
    },
    {
     "name": "stdout",
     "output_type": "stream",
     "text": [
      "[1,    47] running_loss: 0.050, \n"
     ]
    },
    {
     "name": "stderr",
     "output_type": "stream",
     "text": [
      "  0%|                                                                                                                                                                                                                                                                                     | 0/2 [04:22<?, ?it/s, T of [59]=50]"
     ]
    },
    {
     "name": "stdout",
     "output_type": "stream",
     "text": [
      "[1,    49] running_loss: 0.049, \n"
     ]
    },
    {
     "name": "stderr",
     "output_type": "stream",
     "text": [
      "  0%|                                                                                                                                                                                                                                                                                     | 0/2 [04:33<?, ?it/s, T of [59]=52]"
     ]
    },
    {
     "name": "stdout",
     "output_type": "stream",
     "text": [
      "[1,    51] running_loss: 0.048, \n"
     ]
    },
    {
     "name": "stderr",
     "output_type": "stream",
     "text": [
      "  0%|                                                                                                                                                                                                                                                                                     | 0/2 [04:43<?, ?it/s, T of [59]=54]"
     ]
    },
    {
     "name": "stdout",
     "output_type": "stream",
     "text": [
      "[1,    53] running_loss: 0.049, \n"
     ]
    },
    {
     "name": "stderr",
     "output_type": "stream",
     "text": [
      "  0%|                                                                                                                                                                                                                                                                                     | 0/2 [04:54<?, ?it/s, T of [59]=56]"
     ]
    },
    {
     "name": "stdout",
     "output_type": "stream",
     "text": [
      "[1,    55] running_loss: 0.049, \n"
     ]
    },
    {
     "name": "stderr",
     "output_type": "stream",
     "text": [
      "  0%|                                                                                                                                                                                                                                                                                     | 0/2 [05:04<?, ?it/s, T of [59]=58]"
     ]
    },
    {
     "name": "stdout",
     "output_type": "stream",
     "text": [
      "[1,    57] running_loss: 0.048, \n"
     ]
    },
    {
     "name": "stderr",
     "output_type": "stream",
     "text": [
      " 50%|██████████████████████████████████████████████████████████████████████████████████████████████████████████████████████████████████████                                                                                                                                      | 1/2 [05:13<05:13, 313.31s/it, T of [59]=59]"
     ]
    },
    {
     "name": "stdout",
     "output_type": "stream",
     "text": [
      "[1,    59] running_loss: 0.047, \n"
     ]
    },
    {
     "name": "stderr",
     "output_type": "stream",
     "text": [
      " 50%|██████████████████████████████████████████████████████████████████████████████████████████████████████████████████████████████████████▌                                                                                                                                      | 1/2 [05:19<05:13, 313.31s/it, T of [59]=2]"
     ]
    },
    {
     "name": "stdout",
     "output_type": "stream",
     "text": [
      "[2,     1] running_loss: 0.024, \n"
     ]
    },
    {
     "name": "stderr",
     "output_type": "stream",
     "text": [
      " 50%|██████████████████████████████████████████████████████████████████████████████████████████████████████████████████████████████████████▌                                                                                                                                      | 1/2 [05:29<05:13, 313.31s/it, T of [59]=4]"
     ]
    },
    {
     "name": "stdout",
     "output_type": "stream",
     "text": [
      "[2,     3] running_loss: 0.047, \n"
     ]
    },
    {
     "name": "stderr",
     "output_type": "stream",
     "text": [
      " 50%|██████████████████████████████████████████████████████████████████████████████████████████████████████████████████████████████████████▌                                                                                                                                      | 1/2 [05:40<05:13, 313.31s/it, T of [59]=6]"
     ]
    },
    {
     "name": "stdout",
     "output_type": "stream",
     "text": [
      "[2,     5] running_loss: 0.046, \n"
     ]
    },
    {
     "name": "stderr",
     "output_type": "stream",
     "text": [
      " 50%|██████████████████████████████████████████████████████████████████████████████████████████████████████████████████████████████████████▌                                                                                                                                      | 1/2 [05:50<05:13, 313.31s/it, T of [59]=8]"
     ]
    },
    {
     "name": "stdout",
     "output_type": "stream",
     "text": [
      "[2,     7] running_loss: 0.046, \n"
     ]
    },
    {
     "name": "stderr",
     "output_type": "stream",
     "text": [
      " 50%|██████████████████████████████████████████████████████████████████████████████████████████████████████████████████████████████████████                                                                                                                                      | 1/2 [06:01<05:13, 313.31s/it, T of [59]=10]"
     ]
    },
    {
     "name": "stdout",
     "output_type": "stream",
     "text": [
      "[2,     9] running_loss: 0.046, \n"
     ]
    },
    {
     "name": "stderr",
     "output_type": "stream",
     "text": [
      " 50%|██████████████████████████████████████████████████████████████████████████████████████████████████████████████████████████████████████                                                                                                                                      | 1/2 [06:11<05:13, 313.31s/it, T of [59]=12]"
     ]
    },
    {
     "name": "stdout",
     "output_type": "stream",
     "text": [
      "[2,    11] running_loss: 0.046, \n"
     ]
    },
    {
     "name": "stderr",
     "output_type": "stream",
     "text": [
      " 50%|██████████████████████████████████████████████████████████████████████████████████████████████████████████████████████████████████████                                                                                                                                      | 1/2 [06:22<05:13, 313.31s/it, T of [59]=14]"
     ]
    },
    {
     "name": "stdout",
     "output_type": "stream",
     "text": [
      "[2,    13] running_loss: 0.046, \n"
     ]
    },
    {
     "name": "stderr",
     "output_type": "stream",
     "text": [
      " 50%|██████████████████████████████████████████████████████████████████████████████████████████████████████████████████████████████████████                                                                                                                                      | 1/2 [06:32<05:13, 313.31s/it, T of [59]=16]"
     ]
    },
    {
     "name": "stdout",
     "output_type": "stream",
     "text": [
      "[2,    15] running_loss: 0.045, \n"
     ]
    },
    {
     "name": "stderr",
     "output_type": "stream",
     "text": [
      " 50%|██████████████████████████████████████████████████████████████████████████████████████████████████████████████████████████████████████                                                                                                                                      | 1/2 [06:43<05:13, 313.31s/it, T of [59]=18]"
     ]
    },
    {
     "name": "stdout",
     "output_type": "stream",
     "text": [
      "[2,    17] running_loss: 0.045, \n"
     ]
    },
    {
     "name": "stderr",
     "output_type": "stream",
     "text": [
      " 50%|██████████████████████████████████████████████████████████████████████████████████████████████████████████████████████████████████████                                                                                                                                      | 1/2 [06:53<05:13, 313.31s/it, T of [59]=20]"
     ]
    },
    {
     "name": "stdout",
     "output_type": "stream",
     "text": [
      "[2,    19] running_loss: 0.045, \n"
     ]
    },
    {
     "name": "stderr",
     "output_type": "stream",
     "text": [
      " 50%|██████████████████████████████████████████████████████████████████████████████████████████████████████████████████████████████████████                                                                                                                                      | 1/2 [07:04<05:13, 313.31s/it, T of [59]=22]"
     ]
    },
    {
     "name": "stdout",
     "output_type": "stream",
     "text": [
      "[2,    21] running_loss: 0.045, \n"
     ]
    },
    {
     "name": "stderr",
     "output_type": "stream",
     "text": [
      " 50%|██████████████████████████████████████████████████████████████████████████████████████████████████████████████████████████████████████                                                                                                                                      | 1/2 [07:14<05:13, 313.31s/it, T of [59]=24]"
     ]
    },
    {
     "name": "stdout",
     "output_type": "stream",
     "text": [
      "[2,    23] running_loss: 0.046, \n"
     ]
    },
    {
     "name": "stderr",
     "output_type": "stream",
     "text": [
      " 50%|██████████████████████████████████████████████████████████████████████████████████████████████████████████████████████████████████████                                                                                                                                      | 1/2 [07:25<05:13, 313.31s/it, T of [59]=26]"
     ]
    },
    {
     "name": "stdout",
     "output_type": "stream",
     "text": [
      "[2,    25] running_loss: 0.045, \n"
     ]
    },
    {
     "name": "stderr",
     "output_type": "stream",
     "text": [
      " 50%|██████████████████████████████████████████████████████████████████████████████████████████████████████████████████████████████████████                                                                                                                                      | 1/2 [07:35<05:13, 313.31s/it, T of [59]=28]"
     ]
    },
    {
     "name": "stdout",
     "output_type": "stream",
     "text": [
      "[2,    27] running_loss: 0.044, \n"
     ]
    },
    {
     "name": "stderr",
     "output_type": "stream",
     "text": [
      " 50%|██████████████████████████████████████████████████████████████████████████████████████████████████████████████████████████████████████                                                                                                                                      | 1/2 [07:46<05:13, 313.31s/it, T of [59]=30]"
     ]
    },
    {
     "name": "stdout",
     "output_type": "stream",
     "text": [
      "[2,    29] running_loss: 0.044, \n"
     ]
    },
    {
     "name": "stderr",
     "output_type": "stream",
     "text": [
      " 50%|██████████████████████████████████████████████████████████████████████████████████████████████████████████████████████████████████████                                                                                                                                      | 1/2 [07:56<05:13, 313.31s/it, T of [59]=32]"
     ]
    },
    {
     "name": "stdout",
     "output_type": "stream",
     "text": [
      "[2,    31] running_loss: 0.044, \n"
     ]
    },
    {
     "name": "stderr",
     "output_type": "stream",
     "text": [
      " 50%|██████████████████████████████████████████████████████████████████████████████████████████████████████████████████████████████████████                                                                                                                                      | 1/2 [08:07<05:13, 313.31s/it, T of [59]=34]"
     ]
    },
    {
     "name": "stdout",
     "output_type": "stream",
     "text": [
      "[2,    33] running_loss: 0.043, \n"
     ]
    },
    {
     "name": "stderr",
     "output_type": "stream",
     "text": [
      " 50%|██████████████████████████████████████████████████████████████████████████████████████████████████████████████████████████████████████                                                                                                                                      | 1/2 [08:17<05:13, 313.31s/it, T of [59]=36]"
     ]
    },
    {
     "name": "stdout",
     "output_type": "stream",
     "text": [
      "[2,    35] running_loss: 0.043, \n"
     ]
    },
    {
     "name": "stderr",
     "output_type": "stream",
     "text": [
      " 50%|██████████████████████████████████████████████████████████████████████████████████████████████████████████████████████████████████████                                                                                                                                      | 1/2 [08:28<05:13, 313.31s/it, T of [59]=38]"
     ]
    },
    {
     "name": "stdout",
     "output_type": "stream",
     "text": [
      "[2,    37] running_loss: 0.043, \n"
     ]
    },
    {
     "name": "stderr",
     "output_type": "stream",
     "text": [
      " 50%|██████████████████████████████████████████████████████████████████████████████████████████████████████████████████████████████████████                                                                                                                                      | 1/2 [08:38<05:13, 313.31s/it, T of [59]=40]"
     ]
    },
    {
     "name": "stdout",
     "output_type": "stream",
     "text": [
      "[2,    39] running_loss: 0.043, \n"
     ]
    },
    {
     "name": "stderr",
     "output_type": "stream",
     "text": [
      " 50%|██████████████████████████████████████████████████████████████████████████████████████████████████████████████████████████████████████                                                                                                                                      | 1/2 [08:49<05:13, 313.31s/it, T of [59]=42]"
     ]
    },
    {
     "name": "stdout",
     "output_type": "stream",
     "text": [
      "[2,    41] running_loss: 0.043, \n"
     ]
    },
    {
     "name": "stderr",
     "output_type": "stream",
     "text": [
      " 50%|██████████████████████████████████████████████████████████████████████████████████████████████████████████████████████████████████████                                                                                                                                      | 1/2 [08:59<05:13, 313.31s/it, T of [59]=44]"
     ]
    },
    {
     "name": "stdout",
     "output_type": "stream",
     "text": [
      "[2,    43] running_loss: 0.043, \n"
     ]
    },
    {
     "name": "stderr",
     "output_type": "stream",
     "text": [
      " 50%|██████████████████████████████████████████████████████████████████████████████████████████████████████████████████████████████████████                                                                                                                                      | 1/2 [09:10<05:13, 313.31s/it, T of [59]=46]"
     ]
    },
    {
     "name": "stdout",
     "output_type": "stream",
     "text": [
      "[2,    45] running_loss: 0.042, \n"
     ]
    },
    {
     "name": "stderr",
     "output_type": "stream",
     "text": [
      " 50%|██████████████████████████████████████████████████████████████████████████████████████████████████████████████████████████████████████                                                                                                                                      | 1/2 [09:20<05:13, 313.31s/it, T of [59]=48]"
     ]
    },
    {
     "name": "stdout",
     "output_type": "stream",
     "text": [
      "[2,    47] running_loss: 0.042, \n"
     ]
    },
    {
     "name": "stderr",
     "output_type": "stream",
     "text": [
      " 50%|██████████████████████████████████████████████████████████████████████████████████████████████████████████████████████████████████████                                                                                                                                      | 1/2 [09:31<05:13, 313.31s/it, T of [59]=50]"
     ]
    },
    {
     "name": "stdout",
     "output_type": "stream",
     "text": [
      "[2,    49] running_loss: 0.042, \n"
     ]
    },
    {
     "name": "stderr",
     "output_type": "stream",
     "text": [
      " 50%|██████████████████████████████████████████████████████████████████████████████████████████████████████████████████████████████████████                                                                                                                                      | 1/2 [09:41<05:13, 313.31s/it, T of [59]=52]"
     ]
    },
    {
     "name": "stdout",
     "output_type": "stream",
     "text": [
      "[2,    51] running_loss: 0.042, \n"
     ]
    },
    {
     "name": "stderr",
     "output_type": "stream",
     "text": [
      " 50%|██████████████████████████████████████████████████████████████████████████████████████████████████████████████████████████████████████                                                                                                                                      | 1/2 [09:52<05:13, 313.31s/it, T of [59]=54]"
     ]
    },
    {
     "name": "stdout",
     "output_type": "stream",
     "text": [
      "[2,    53] running_loss: 0.043, \n"
     ]
    },
    {
     "name": "stderr",
     "output_type": "stream",
     "text": [
      " 50%|██████████████████████████████████████████████████████████████████████████████████████████████████████████████████████████████████████                                                                                                                                      | 1/2 [10:02<05:13, 313.31s/it, T of [59]=56]"
     ]
    },
    {
     "name": "stdout",
     "output_type": "stream",
     "text": [
      "[2,    55] running_loss: 0.042, \n"
     ]
    },
    {
     "name": "stderr",
     "output_type": "stream",
     "text": [
      " 50%|██████████████████████████████████████████████████████████████████████████████████████████████████████████████████████████████████████                                                                                                                                      | 1/2 [10:13<05:13, 313.31s/it, T of [59]=58]"
     ]
    },
    {
     "name": "stdout",
     "output_type": "stream",
     "text": [
      "[2,    57] running_loss: 0.042, \n"
     ]
    },
    {
     "name": "stderr",
     "output_type": "stream",
     "text": [
      "100%|████████████████████████████████████████████████████████████████████████████████████████████████████████████████████████████████████████████████████████████████████████████████████████████████████████████████████████████████████████████████████████████████████████████| 2/2 [10:21<00:00, 310.74s/it, T of [59]=59]\n"
     ]
    },
    {
     "name": "stdout",
     "output_type": "stream",
     "text": [
      "[2,    59] running_loss: 0.042, \n"
     ]
    },
    {
     "name": "stderr",
     "output_type": "stream",
     "text": [
      "Validation round:   2%|████▍                                                                                                                                                                                                                                                                | 1/59 [00:02<02:07,  2.20s/batch]"
     ]
    },
    {
     "name": "stdout",
     "output_type": "stream",
     "text": [
      "8.31421184539795\n"
     ]
    },
    {
     "name": "stderr",
     "output_type": "stream",
     "text": [
      "\r",
      "Validation round:   3%|████████▊                                                                                                                                                                                                                                                            | 2/59 [00:04<01:57,  2.06s/batch]"
     ]
    },
    {
     "name": "stdout",
     "output_type": "stream",
     "text": [
      "6.759269714355469\n"
     ]
    },
    {
     "name": "stderr",
     "output_type": "stream",
     "text": [
      "\r",
      "Validation round:   5%|█████████████▎                                                                                                                                                                                                                                                       | 3/59 [00:06<01:52,  2.01s/batch]"
     ]
    },
    {
     "name": "stdout",
     "output_type": "stream",
     "text": [
      "1.8928465843200684\n"
     ]
    },
    {
     "name": "stderr",
     "output_type": "stream",
     "text": [
      "\r",
      "Validation round:   7%|█████████████████▋                                                                                                                                                                                                                                                   | 4/59 [00:08<01:48,  1.98s/batch]"
     ]
    },
    {
     "name": "stdout",
     "output_type": "stream",
     "text": [
      "4.518887042999268\n"
     ]
    },
    {
     "name": "stderr",
     "output_type": "stream",
     "text": [
      "\r",
      "Validation round:   8%|██████████████████████                                                                                                                                                                                                                                               | 5/59 [00:09<01:46,  1.97s/batch]"
     ]
    },
    {
     "name": "stdout",
     "output_type": "stream",
     "text": [
      "2.8949222564697266\n"
     ]
    },
    {
     "name": "stderr",
     "output_type": "stream",
     "text": [
      "\r",
      "Validation round:  10%|██████████████████████████▌                                                                                                                                                                                                                                          | 6/59 [00:11<01:44,  1.97s/batch]"
     ]
    },
    {
     "name": "stdout",
     "output_type": "stream",
     "text": [
      "9.763001441955566\n"
     ]
    },
    {
     "name": "stderr",
     "output_type": "stream",
     "text": [
      "\r",
      "Validation round:  12%|██████████████████████████████▉                                                                                                                                                                                                                                      | 7/59 [00:13<01:43,  1.98s/batch]"
     ]
    },
    {
     "name": "stdout",
     "output_type": "stream",
     "text": [
      "8.89982795715332\n"
     ]
    },
    {
     "name": "stderr",
     "output_type": "stream",
     "text": [
      "\r",
      "Validation round:  14%|███████████████████████████████████▍                                                                                                                                                                                                                                 | 8/59 [00:15<01:40,  1.97s/batch]"
     ]
    },
    {
     "name": "stdout",
     "output_type": "stream",
     "text": [
      "1.1620181798934937\n"
     ]
    },
    {
     "name": "stderr",
     "output_type": "stream",
     "text": [
      "\r",
      "Validation round:  15%|███████████████████████████████████████▊                                                                                                                                                                                                                             | 9/59 [00:17<01:38,  1.96s/batch]"
     ]
    },
    {
     "name": "stdout",
     "output_type": "stream",
     "text": [
      "1.8624099493026733\n"
     ]
    },
    {
     "name": "stderr",
     "output_type": "stream",
     "text": [
      "\r",
      "Validation round:  17%|████████████████████████████████████████████                                                                                                                                                                                                                        | 10/59 [00:19<01:36,  1.96s/batch]"
     ]
    },
    {
     "name": "stdout",
     "output_type": "stream",
     "text": [
      "0.2987539768218994\n"
     ]
    },
    {
     "name": "stderr",
     "output_type": "stream",
     "text": [
      "\r",
      "Validation round:  19%|████████████████████████████████████████████████▍                                                                                                                                                                                                                   | 11/59 [00:21<01:33,  1.96s/batch]"
     ]
    },
    {
     "name": "stdout",
     "output_type": "stream",
     "text": [
      "2.5060818195343018\n"
     ]
    },
    {
     "name": "stderr",
     "output_type": "stream",
     "text": [
      "\r",
      "Validation round:  20%|████████████████████████████████████████████████████▉                                                                                                                                                                                                               | 12/59 [00:23<01:32,  1.96s/batch]"
     ]
    },
    {
     "name": "stdout",
     "output_type": "stream",
     "text": [
      "14.737732887268066\n"
     ]
    },
    {
     "name": "stderr",
     "output_type": "stream",
     "text": [
      "\r",
      "Validation round:  22%|█████████████████████████████████████████████████████████▎                                                                                                                                                                                                          | 13/59 [00:25<01:30,  1.96s/batch]"
     ]
    },
    {
     "name": "stdout",
     "output_type": "stream",
     "text": [
      "7.4947590827941895\n"
     ]
    },
    {
     "name": "stderr",
     "output_type": "stream",
     "text": [
      "\r",
      "Validation round:  24%|█████████████████████████████████████████████████████████████▋                                                                                                                                                                                                      | 14/59 [00:27<01:28,  1.96s/batch]"
     ]
    },
    {
     "name": "stdout",
     "output_type": "stream",
     "text": [
      "7.000495910644531\n"
     ]
    },
    {
     "name": "stderr",
     "output_type": "stream",
     "text": [
      "\r",
      "Validation round:  25%|██████████████████████████████████████████████████████████████████                                                                                                                                                                                                  | 15/59 [00:29<01:25,  1.95s/batch]"
     ]
    },
    {
     "name": "stdout",
     "output_type": "stream",
     "text": [
      "3.140324831008911\n"
     ]
    },
    {
     "name": "stderr",
     "output_type": "stream",
     "text": [
      "\r",
      "Validation round:  27%|██████████████████████████████████████████████████████████████████████▌                                                                                                                                                                                             | 16/59 [00:31<01:23,  1.95s/batch]"
     ]
    },
    {
     "name": "stdout",
     "output_type": "stream",
     "text": [
      "4.157486438751221\n"
     ]
    },
    {
     "name": "stderr",
     "output_type": "stream",
     "text": [
      "\r",
      "Validation round:  29%|██████████████████████████████████████████████████████████████████████████▉                                                                                                                                                                                         | 17/59 [00:33<01:21,  1.95s/batch]"
     ]
    },
    {
     "name": "stdout",
     "output_type": "stream",
     "text": [
      "6.229341983795166\n"
     ]
    },
    {
     "name": "stderr",
     "output_type": "stream",
     "text": [
      "\r",
      "Validation round:  31%|███████████████████████████████████████████████████████████████████████████████▎                                                                                                                                                                                    | 18/59 [00:35<01:19,  1.95s/batch]"
     ]
    },
    {
     "name": "stdout",
     "output_type": "stream",
     "text": [
      "6.002020359039307\n"
     ]
    },
    {
     "name": "stderr",
     "output_type": "stream",
     "text": [
      "\r",
      "Validation round:  32%|███████████████████████████████████████████████████████████████████████████████████▋                                                                                                                                                                                | 19/59 [00:37<01:17,  1.95s/batch]"
     ]
    },
    {
     "name": "stdout",
     "output_type": "stream",
     "text": [
      "11.793384552001953\n"
     ]
    },
    {
     "name": "stderr",
     "output_type": "stream",
     "text": [
      "\r",
      "Validation round:  34%|████████████████████████████████████████████████████████████████████████████████████████▏                                                                                                                                                                           | 20/59 [00:39<01:19,  2.05s/batch]"
     ]
    },
    {
     "name": "stdout",
     "output_type": "stream",
     "text": [
      "6.874987602233887\n"
     ]
    },
    {
     "name": "stderr",
     "output_type": "stream",
     "text": [
      "\r",
      "Validation round:  36%|████████████████████████████████████████████████████████████████████████████████████████████▌                                                                                                                                                                       | 21/59 [00:41<01:18,  2.06s/batch]"
     ]
    },
    {
     "name": "stdout",
     "output_type": "stream",
     "text": [
      "5.5769267082214355\n"
     ]
    },
    {
     "name": "stderr",
     "output_type": "stream",
     "text": [
      "\r",
      "Validation round:  37%|████████████████████████████████████████████████████████████████████████████████████████████████▉                                                                                                                                                                   | 22/59 [00:43<01:15,  2.03s/batch]"
     ]
    },
    {
     "name": "stdout",
     "output_type": "stream",
     "text": [
      "2.708632469177246\n"
     ]
    },
    {
     "name": "stderr",
     "output_type": "stream",
     "text": [
      "\r",
      "Validation round:  39%|█████████████████████████████████████████████████████████████████████████████████████████████████████▎                                                                                                                                                              | 23/59 [00:45<01:12,  2.01s/batch]"
     ]
    },
    {
     "name": "stdout",
     "output_type": "stream",
     "text": [
      "3.8675930500030518\n"
     ]
    },
    {
     "name": "stderr",
     "output_type": "stream",
     "text": [
      "\r",
      "Validation round:  41%|█████████████████████████████████████████████████████████████████████████████████████████████████████████▊                                                                                                                                                          | 24/59 [00:47<01:09,  1.99s/batch]"
     ]
    },
    {
     "name": "stdout",
     "output_type": "stream",
     "text": [
      "8.813590049743652\n"
     ]
    },
    {
     "name": "stderr",
     "output_type": "stream",
     "text": [
      "\r",
      "Validation round:  42%|██████████████████████████████████████████████████████████████████████████████████████████████████████████████▏                                                                                                                                                     | 25/59 [00:49<01:07,  1.98s/batch]"
     ]
    },
    {
     "name": "stdout",
     "output_type": "stream",
     "text": [
      "6.613297939300537\n"
     ]
    },
    {
     "name": "stderr",
     "output_type": "stream",
     "text": [
      "\r",
      "Validation round:  44%|██████████████████████████████████████████████████████████████████████████████████████████████████████████████████▌                                                                                                                                                 | 26/59 [00:51<01:04,  1.97s/batch]"
     ]
    },
    {
     "name": "stdout",
     "output_type": "stream",
     "text": [
      "4.099560260772705\n"
     ]
    },
    {
     "name": "stderr",
     "output_type": "stream",
     "text": [
      "\r",
      "Validation round:  46%|██████████████████████████████████████████████████████████████████████████████████████████████████████████████████████▉                                                                                                                                             | 27/59 [00:53<01:03,  1.99s/batch]"
     ]
    },
    {
     "name": "stdout",
     "output_type": "stream",
     "text": [
      "4.168717384338379\n"
     ]
    },
    {
     "name": "stderr",
     "output_type": "stream",
     "text": [
      "\r",
      "Validation round:  47%|███████████████████████████████████████████████████████████████████████████████████████████████████████████████████████████▍                                                                                                                                        | 28/59 [00:55<01:01,  1.99s/batch]"
     ]
    },
    {
     "name": "stdout",
     "output_type": "stream",
     "text": [
      "5.6032395362854\n"
     ]
    },
    {
     "name": "stderr",
     "output_type": "stream",
     "text": [
      "\r",
      "Validation round:  49%|███████████████████████████████████████████████████████████████████████████████████████████████████████████████████████████████▊                                                                                                                                    | 29/59 [00:57<00:59,  1.98s/batch]"
     ]
    },
    {
     "name": "stdout",
     "output_type": "stream",
     "text": [
      "8.784313201904297\n"
     ]
    },
    {
     "name": "stderr",
     "output_type": "stream",
     "text": [
      "\r",
      "Validation round:  51%|████████████████████████████████████████████████████████████████████████████████████████████████████████████████████████████████████▏                                                                                                                               | 30/59 [00:59<00:57,  1.97s/batch]"
     ]
    },
    {
     "name": "stdout",
     "output_type": "stream",
     "text": [
      "8.367844581604004\n"
     ]
    },
    {
     "name": "stderr",
     "output_type": "stream",
     "text": [
      "\r",
      "Validation round:  53%|████████████████████████████████████████████████████████████████████████████████████████████████████████████████████████████████████████▌                                                                                                                           | 31/59 [01:01<00:55,  1.97s/batch]"
     ]
    },
    {
     "name": "stdout",
     "output_type": "stream",
     "text": [
      "1.1427099704742432\n"
     ]
    },
    {
     "name": "stderr",
     "output_type": "stream",
     "text": [
      "\r",
      "Validation round:  54%|█████████████████████████████████████████████████████████████████████████████████████████████████████████████████████████████████████████████                                                                                                                       | 32/59 [01:03<00:53,  1.97s/batch]"
     ]
    },
    {
     "name": "stdout",
     "output_type": "stream",
     "text": [
      "4.876703262329102\n"
     ]
    },
    {
     "name": "stderr",
     "output_type": "stream",
     "text": [
      "\r",
      "Validation round:  56%|█████████████████████████████████████████████████████████████████████████████████████████████████████████████████████████████████████████████████▍                                                                                                                  | 33/59 [01:05<00:51,  1.96s/batch]"
     ]
    },
    {
     "name": "stdout",
     "output_type": "stream",
     "text": [
      "6.120493412017822\n"
     ]
    },
    {
     "name": "stderr",
     "output_type": "stream",
     "text": [
      "\r",
      "Validation round:  58%|█████████████████████████████████████████████████████████████████████████████████████████████████████████████████████████████████████████████████████▊                                                                                                              | 34/59 [01:07<00:48,  1.95s/batch]"
     ]
    },
    {
     "name": "stdout",
     "output_type": "stream",
     "text": [
      "13.195202827453613\n"
     ]
    },
    {
     "name": "stderr",
     "output_type": "stream",
     "text": [
      "\r",
      "Validation round:  59%|██████████████████████████████████████████████████████████████████████████████████████████████████████████████████████████████████████████████████████████▏                                                                                                         | 35/59 [01:09<00:47,  1.96s/batch]"
     ]
    },
    {
     "name": "stdout",
     "output_type": "stream",
     "text": [
      "6.522655487060547\n"
     ]
    },
    {
     "name": "stderr",
     "output_type": "stream",
     "text": [
      "\r",
      "Validation round:  61%|██████████████████████████████████████████████████████████████████████████████████████████████████████████████████████████████████████████████████████████████▋                                                                                                     | 36/59 [01:11<00:44,  1.95s/batch]"
     ]
    },
    {
     "name": "stdout",
     "output_type": "stream",
     "text": [
      "7.376358985900879\n"
     ]
    },
    {
     "name": "stderr",
     "output_type": "stream",
     "text": [
      "\r",
      "Validation round:  63%|███████████████████████████████████████████████████████████████████████████████████████████████████████████████████████████████████████████████████████████████████                                                                                                 | 37/59 [01:13<00:43,  1.96s/batch]"
     ]
    },
    {
     "name": "stdout",
     "output_type": "stream",
     "text": [
      "6.351638317108154\n"
     ]
    },
    {
     "name": "stderr",
     "output_type": "stream",
     "text": [
      "\r",
      "Validation round:  64%|███████████████████████████████████████████████████████████████████████████████████████████████████████████████████████████████████████████████████████████████████████▍                                                                                            | 38/59 [01:15<00:41,  1.97s/batch]"
     ]
    },
    {
     "name": "stdout",
     "output_type": "stream",
     "text": [
      "4.720199108123779\n"
     ]
    },
    {
     "name": "stderr",
     "output_type": "stream",
     "text": [
      "\r",
      "Validation round:  66%|███████████████████████████████████████████████████████████████████████████████████████████████████████████████████████████████████████████████████████████████████████████▊                                                                                        | 39/59 [01:17<00:39,  1.98s/batch]"
     ]
    },
    {
     "name": "stdout",
     "output_type": "stream",
     "text": [
      "19.491744995117188\n"
     ]
    },
    {
     "name": "stderr",
     "output_type": "stream",
     "text": [
      "\r",
      "Validation round:  68%|████████████████████████████████████████████████████████████████████████████████████████████████████████████████████████████████████████████████████████████████████████████████▎                                                                                   | 40/59 [01:19<00:37,  1.97s/batch]"
     ]
    },
    {
     "name": "stdout",
     "output_type": "stream",
     "text": [
      "1.8729621171951294\n"
     ]
    },
    {
     "name": "stderr",
     "output_type": "stream",
     "text": [
      "\r",
      "Validation round:  69%|████████████████████████████████████████████████████████████████████████████████████████████████████████████████████████████████████████████████████████████████████████████████████▋                                                                               | 41/59 [01:21<00:35,  1.97s/batch]"
     ]
    },
    {
     "name": "stdout",
     "output_type": "stream",
     "text": [
      "7.964080333709717\n"
     ]
    },
    {
     "name": "stderr",
     "output_type": "stream",
     "text": [
      "\r",
      "Validation round:  71%|█████████████████████████████████████████████████████████████████████████████████████████████████████████████████████████████████████████████████████████████████████████████████████████                                                                           | 42/59 [01:23<00:33,  1.97s/batch]"
     ]
    },
    {
     "name": "stdout",
     "output_type": "stream",
     "text": [
      "9.555253982543945\n"
     ]
    },
    {
     "name": "stderr",
     "output_type": "stream",
     "text": [
      "\r",
      "Validation round:  73%|█████████████████████████████████████████████████████████████████████████████████████████████████████████████████████████████████████████████████████████████████████████████████████████████▍                                                                      | 43/59 [01:25<00:31,  1.97s/batch]"
     ]
    },
    {
     "name": "stdout",
     "output_type": "stream",
     "text": [
      "2.4407219886779785\n"
     ]
    },
    {
     "name": "stderr",
     "output_type": "stream",
     "text": [
      "\r",
      "Validation round:  75%|█████████████████████████████████████████████████████████████████████████████████████████████████████████████████████████████████████████████████████████████████████████████████████████████████▉                                                                  | 44/59 [01:26<00:29,  1.96s/batch]"
     ]
    },
    {
     "name": "stdout",
     "output_type": "stream",
     "text": [
      "5.871258735656738\n"
     ]
    },
    {
     "name": "stderr",
     "output_type": "stream",
     "text": [
      "\r",
      "Validation round:  76%|██████████████████████████████████████████████████████████████████████████████████████████████████████████████████████████████████████████████████████████████████████████████████████████████████████▎                                                             | 45/59 [01:28<00:27,  1.96s/batch]"
     ]
    },
    {
     "name": "stdout",
     "output_type": "stream",
     "text": [
      "12.333704948425293\n"
     ]
    },
    {
     "name": "stderr",
     "output_type": "stream",
     "text": [
      "\r",
      "Validation round:  78%|██████████████████████████████████████████████████████████████████████████████████████████████████████████████████████████████████████████████████████████████████████████████████████████████████████████▋                                                         | 46/59 [01:30<00:25,  1.96s/batch]"
     ]
    },
    {
     "name": "stdout",
     "output_type": "stream",
     "text": [
      "2.8221395015716553\n"
     ]
    },
    {
     "name": "stderr",
     "output_type": "stream",
     "text": [
      "\r",
      "Validation round:  80%|███████████████████████████████████████████████████████████████████████████████████████████████████████████████████████████████████████████████████████████████████████████████████████████████████████████████                                                     | 47/59 [01:32<00:23,  1.96s/batch]"
     ]
    },
    {
     "name": "stdout",
     "output_type": "stream",
     "text": [
      "2.331139326095581\n"
     ]
    },
    {
     "name": "stderr",
     "output_type": "stream",
     "text": [
      "\r",
      "Validation round:  81%|███████████████████████████████████████████████████████████████████████████████████████████████████████████████████████████████████████████████████████████████████████████████████████████████████████████████████▌                                                | 48/59 [01:34<00:21,  1.96s/batch]"
     ]
    },
    {
     "name": "stdout",
     "output_type": "stream",
     "text": [
      "15.198742866516113\n"
     ]
    },
    {
     "name": "stderr",
     "output_type": "stream",
     "text": [
      "\r",
      "Validation round:  83%|███████████████████████████████████████████████████████████████████████████████████████████████████████████████████████████████████████████████████████████████████████████████████████████████████████████████████████▉                                            | 49/59 [01:36<00:19,  1.97s/batch]"
     ]
    },
    {
     "name": "stdout",
     "output_type": "stream",
     "text": [
      "3.356174945831299\n"
     ]
    },
    {
     "name": "stderr",
     "output_type": "stream",
     "text": [
      "\r",
      "Validation round:  85%|████████████████████████████████████████████████████████████████████████████████████████████████████████████████████████████████████████████████████████████████████████████████████████████████████████████████████████████▎                                       | 50/59 [01:38<00:17,  1.96s/batch]"
     ]
    },
    {
     "name": "stdout",
     "output_type": "stream",
     "text": [
      "4.834756851196289\n"
     ]
    },
    {
     "name": "stderr",
     "output_type": "stream",
     "text": [
      "\r",
      "Validation round:  86%|████████████████████████████████████████████████████████████████████████████████████████████████████████████████████████████████████████████████████████████████████████████████████████████████████████████████████████████████▋                                   | 51/59 [01:40<00:15,  1.96s/batch]"
     ]
    },
    {
     "name": "stdout",
     "output_type": "stream",
     "text": [
      "8.422989845275879\n"
     ]
    },
    {
     "name": "stderr",
     "output_type": "stream",
     "text": [
      "\r",
      "Validation round:  88%|█████████████████████████████████████████████████████████████████████████████████████████████████████████████████████████████████████████████████████████████████████████████████████████████████████████████████████████████████████▏                              | 52/59 [01:42<00:13,  1.95s/batch]"
     ]
    },
    {
     "name": "stdout",
     "output_type": "stream",
     "text": [
      "2.9793426990509033\n"
     ]
    },
    {
     "name": "stderr",
     "output_type": "stream",
     "text": [
      "\r",
      "Validation round:  90%|█████████████████████████████████████████████████████████████████████████████████████████████████████████████████████████████████████████████████████████████████████████████████████████████████████████████████████████████████████████▌                          | 53/59 [01:44<00:11,  1.96s/batch]"
     ]
    },
    {
     "name": "stdout",
     "output_type": "stream",
     "text": [
      "5.467329978942871\n"
     ]
    },
    {
     "name": "stderr",
     "output_type": "stream",
     "text": [
      "\r",
      "Validation round:  92%|█████████████████████████████████████████████████████████████████████████████████████████████████████████████████████████████████████████████████████████████████████████████████████████████████████████████████████████████████████████████▉                      | 54/59 [01:46<00:09,  1.97s/batch]"
     ]
    },
    {
     "name": "stdout",
     "output_type": "stream",
     "text": [
      "3.696103572845459\n"
     ]
    },
    {
     "name": "stderr",
     "output_type": "stream",
     "text": [
      "\r",
      "Validation round:  93%|██████████████████████████████████████████████████████████████████████████████████████████████████████████████████████████████████████████████████████████████████████████████████████████████████████████████████████████████████████████████████▎                 | 55/59 [01:48<00:07,  1.96s/batch]"
     ]
    },
    {
     "name": "stdout",
     "output_type": "stream",
     "text": [
      "3.218637466430664\n"
     ]
    },
    {
     "name": "stderr",
     "output_type": "stream",
     "text": [
      "\r",
      "Validation round:  95%|██████████████████████████████████████████████████████████████████████████████████████████████████████████████████████████████████████████████████████████████████████████████████████████████████████████████████████████████████████████████████████▊             | 56/59 [01:50<00:05,  1.93s/batch]"
     ]
    },
    {
     "name": "stdout",
     "output_type": "stream",
     "text": [
      "5.596401691436768\n"
     ]
    },
    {
     "name": "stderr",
     "output_type": "stream",
     "text": [
      "\r",
      "Validation round:  97%|███████████████████████████████████████████████████████████████████████████████████████████████████████████████████████████████████████████████████████████████████████████████████████████████████████████████████████████████████████████████████████████▏        | 57/59 [01:52<00:03,  1.92s/batch]"
     ]
    },
    {
     "name": "stdout",
     "output_type": "stream",
     "text": [
      "1.1526148319244385\n"
     ]
    },
    {
     "name": "stderr",
     "output_type": "stream",
     "text": [
      "\r",
      "Validation round:  98%|███████████████████████████████████████████████████████████████████████████████████████████████████████████████████████████████████████████████████████████████████████████████████████████████████████████████████████████████████████████████████████████████▌    | 58/59 [01:54<00:01,  1.91s/batch]"
     ]
    },
    {
     "name": "stdout",
     "output_type": "stream",
     "text": [
      "16.31546401977539\n"
     ]
    },
    {
     "name": "stderr",
     "output_type": "stream",
     "text": [
      "                                                                                                                                                                                                                                                                                                                              "
     ]
    },
    {
     "name": "stdout",
     "output_type": "stream",
     "text": [
      "17.959760665893555\n"
     ]
    },
    {
     "name": "stderr",
     "output_type": "stream",
     "text": [
      "\r"
     ]
    }
   ],
   "source": [
    "train_model(unet, device)"
   ]
  },
  {
   "cell_type": "code",
   "execution_count": 31,
   "id": "373ebe1d",
   "metadata": {},
   "outputs": [],
   "source": [
    "def try_to_revert(noise, eps, anzahl_schritte, total_schritte=1000):\n",
    "    alpha_quers = berechne_alpha_quer_x_forward_steps(total_schritte)\n",
    "    return (noise - eps * np.sqrt(1-alpha_quers[anzahl_schritte - 1]))/np.sqrt(alpha_quers[anzahl_schritte - 1])\n",
    "    "
   ]
  },
  {
   "cell_type": "code",
   "execution_count": 41,
   "id": "d65d60b2",
   "metadata": {},
   "outputs": [
    {
     "data": {
      "image/png": "[encoded data removed]",
      "text/plain": [
       "<Figure size 640x480 with 1 Axes>"
      ]
     },
     "metadata": {},
     "output_type": "display_data"
    },
    {
     "data": {
      "image/png": "[encoded data removed]",
      "text/plain": [
       "<Figure size 640x480 with 1 Axes>"
      ]
     },
     "metadata": {},
     "output_type": "display_data"
    },
    {
     "data": {
      "image/png": "[encoded data removed]",
      "text/plain": [
       "<Figure size 640x480 with 1 Axes>"
      ]
     },
     "metadata": {},
     "output_type": "display_data"
    },
    {
     "data": {
      "image/png": "[encoded data removed]",
      "text/plain": [
       "<Figure size 640x480 with 1 Axes>"
      ]
     },
     "metadata": {},
     "output_type": "display_data"
    },
    {
     "data": {
      "image/png": "[encoded data removed]",
      "text/plain": [
       "<Figure size 640x480 with 1 Axes>"
      ]
     },
     "metadata": {},
     "output_type": "display_data"
    }
   ],
   "source": [
    "dataiter = iter(trainloader)\n",
    "i, data = next(dataiter)\n",
    "\n",
    "plt.imshow(i[0,0].detach().numpy(), cmap=\"gray\")\n",
    "plt.title(\"Original Bild\")\n",
    "plt.show()\n",
    "\n",
    "img_noise, eps = mache_noise_direkt(i[0:1], 50)\n",
    "\n",
    "plt.imshow(img_noise[0,0].detach().numpy(), cmap=\"gray\")\n",
    "plt.title(\"Verrauschtes Bild (Eingabe in das Netz)\")\n",
    "plt.show()\n",
    "\n",
    "img_pred = unet(img_noise, 50)\n",
    "\n",
    "\n",
    "\n",
    "plt.imshow(img_pred[0,0].detach().numpy(), cmap=\"gray\")\n",
    "plt.title(\"Geschätztes Epsilon (Ausgabe vom Netz)\")\n",
    "plt.show()\n",
    "\n",
    "\n",
    "\n",
    "plt.imshow(eps[0,0].detach().numpy(), cmap=\"gray\")\n",
    "plt.title(\"Richtiges Epsilon\")\n",
    "plt.show()\n",
    "\n",
    "reverted_img = try_to_revert(img_noise, img_pred, 50)\n",
    "\n",
    "plt.imshow(reverted_img[0,0].detach().numpy(), cmap=\"gray\")\n",
    "plt.title(\"Umkehrung des Rauschens mit Prediction\")\n",
    "plt.show()"
   ]
  },
  {
   "cell_type": "code",
   "execution_count": 44,
   "id": "b3148353",
   "metadata": {},
   "outputs": [
    {
     "data": {
      "image/png": "[encoded data removed]",
      "text/plain": [
       "<Figure size 2000x400 with 5 Axes>"
      ]
     },
     "metadata": {},
     "output_type": "display_data"
    }
   ],
   "source": [
    "fig, axs = plt.subplots(1, 5, figsize=(20, 4))  # 1 Reihe, 5 Spalten\n",
    "\n",
    "# Original Bild\n",
    "axs[0].imshow(i[0, 0].detach().numpy(), cmap=\"gray\")\n",
    "axs[0].set_title(\"Original Bild\")\n",
    "axs[0].axis('off')\n",
    "\n",
    "# Verrauschtes Bild\n",
    "img_noise, eps = mache_noise_direkt(i[0:1], 50)\n",
    "axs[1].imshow(img_noise[0, 0].detach().numpy(), cmap=\"gray\")\n",
    "axs[1].set_title(\"Verrauschtes Bild\")\n",
    "axs[1].axis('off')\n",
    "\n",
    "# Geschätztes Epsilon\n",
    "img_pred = unet(img_noise, 50)\n",
    "axs[2].imshow(img_pred[0, 0].detach().numpy(), cmap=\"gray\")\n",
    "axs[2].set_title(\"Geschätztes Epsilon\")\n",
    "axs[2].axis('off')\n",
    "\n",
    "# Richtiges Epsilon\n",
    "axs[3].imshow(eps[0, 0].detach().numpy(), cmap=\"gray\")\n",
    "axs[3].set_title(\"Richtiges Epsilon\")\n",
    "axs[3].axis('off')\n",
    "\n",
    "# Umkehrung des Rauschens\n",
    "reverted_img = try_to_revert(img_noise, img_pred, 50)\n",
    "axs[4].imshow(reverted_img[0, 0].detach().numpy(), cmap=\"gray\")\n",
    "axs[4].set_title(\"Umkehrung des Rauschens\")\n",
    "axs[4].axis('off')\n",
    "\n",
    "plt.show()\n"
   ]
  },
  {
   "cell_type": "code",
   "execution_count": 35,
   "id": "1c246f9f",
   "metadata": {},
   "outputs": [
    {
     "data": {
      "image/png": "[encoded data removed]",
      "text/plain": [
       "<Figure size 640x480 with 1 Axes>"
      ]
     },
     "metadata": {},
     "output_type": "display_data"
    },
    {
     "data": {
      "image/png": "[encoded data removed]",
      "text/plain": [
       "<Figure size 640x480 with 1 Axes>"
      ]
     },
     "metadata": {},
     "output_type": "display_data"
    }
   ],
   "source": [
    "plt.imshow(img_noise[0,0].detach().numpy(), cmap=\"gray\")\n",
    "plt.show()\n",
    "\n",
    "plt.imshow(reverted_img[0,0].detach().numpy(), cmap=\"gray\")\n",
    "plt.show()"
   ]
  },
  {
   "cell_type": "code",
   "execution_count": 36,
   "id": "b38a777b",
   "metadata": {},
   "outputs": [
    {
     "name": "stdout",
     "output_type": "stream",
     "text": [
      "torch.Size([1, 1, 28, 28])\n"
     ]
    },
    {
     "data": {
      "image/png": "[encoded data removed]",
      "text/plain": [
       "<Figure size 640x480 with 1 Axes>"
      ]
     },
     "metadata": {},
     "output_type": "display_data"
    }
   ],
   "source": [
    "betas = create_linear_schedule(1000, 0.0001, 0.02)\n",
    "alphas = 1 - np.array(betas)\n",
    "alphas_quer = []\n",
    "for i in range(len(alphas)):\n",
    "    alphas_quer.append(np.prod(alphas[:i + 1]))\n",
    "\n",
    "for i in reversed(range(50)):\n",
    "    if i > 1:\n",
    "        z = torch.randn_like(img_noise)\n",
    "    else:\n",
    "        z = torch.zeros_like(img_noise)\n",
    "        \n",
    "    img_noise = (1/np.sqrt(alphas[i+1])) * (img_noise - (1- alphas[i+1])/(np.sqrt(1-alphas_quer[i+1])) * img_pred) + z*np.sqrt((1-alphas_quer[i])/(1-alphas_quer[i+1]) * betas[i+1])\n",
    "    \n",
    "print(img_noise.shape)\n",
    "plt.imshow(img_noise[0,0].detach().numpy(), cmap=\"gray\")\n",
    "plt.show()"
   ]
  },
  {
   "cell_type": "code",
   "execution_count": null,
   "id": "8c0bd4a9",
   "metadata": {},
   "outputs": [],
   "source": []
  },
  {
   "cell_type": "code",
   "execution_count": null,
   "id": "ef07d9c1",
   "metadata": {},
   "outputs": [],
   "source": [
    "plt.imshow(img_noise[0,0].detach().numpy(), cmap=\"gray\")\n",
    "plt.show()\n"
   ]
  },
  {
   "cell_type": "code",
   "execution_count": null,
   "id": "68021c07",
   "metadata": {},
   "outputs": [],
   "source": []
  },
  {
   "cell_type": "code",
   "execution_count": null,
   "id": "754c5f34",
   "metadata": {},
   "outputs": [],
   "source": []
  },
  {
   "cell_type": "code",
   "execution_count": null,
   "id": "881d7cb4",
   "metadata": {},
   "outputs": [],
   "source": []
  },
  {
   "cell_type": "raw",
   "id": "9a8cff0f",
   "metadata": {},
   "source": [
    "pos_enc_example = _get_sinusoid_encoding_table(1000, 32) #1000 maximale Zeitschritte, 32 willkürlich gewählte Länge des 'Fingerabdrucks von t'\n",
    "#print(pos_enc_example.shape)\n",
    "#plt.imshow(pos_enc_example[0], cmap='Greys_r')\n",
    "#plt.show()\n",
    "pos_enc_mlp = nn.Sequential(nn.Linear(32,1)) # Eingabedim: Länge Fingerabdrucks, Ausgabedim:Anzahl Kanäle Feature-Map\n",
    "\n",
    "#for t in [0, 10, 42, 500, 800, 999]:\n",
    "#    enc_for_time_t = pos_enc_example[:,t]\n",
    "#    #print(enc_for_time_t.shape)\n",
    "#    plt.plot(enc_for_time_t.squeeze())\n",
    "#    plt.show()\n",
    "#print(enc_for_time_t.shape)\n",
    "enc_for_time_t = pos_enc_example[42]\n",
    "print(enc_for_time_t.shape) #32\n",
    "encoded_pos_enc_for_time_t = pos_enc_mlp(enc_for_time_t.unsqueeze(0)) #in (1,32) out (1,1)\n",
    "B, C, W, H = 5, 1, 28, 28\n",
    "example_feature_map = torch.ones((B,C,H,W))\n",
    "pos_enc_reshape = enc_for_time_t.reshape(1,-1,1,1).expand((B,-1,H,W))\n",
    "encoded_pos_enc_for_time_t_reshape = encoded_pos_enc_for_time_t.reshape(1,-1,1,1).expand((B,-1,H,W)) #5,1,28,28\n",
    "print(example_feature_map.shape)\n",
    "print(enc_for_time_t.shape)\n",
    "print(pos_enc_reshape.shape)\n",
    "feature_map_with_encoding = torch.cat([example_feature_map, pos_enc_reshape], dim=1)\n",
    "alt_feature_map_with_encoding = example_feature_map + encoded_pos_enc_for_time_t_reshape\n",
    "print(feature_map_with_encoding.shape) # erst das hier\n",
    "print(alt_feature_map_with_encoding.shape)"
   ]
  },
  {
   "cell_type": "code",
   "execution_count": null,
   "id": "f421e1ab",
   "metadata": {},
   "outputs": [],
   "source": []
  },
  {
   "cell_type": "code",
   "execution_count": null,
   "id": "ad2f6c39",
   "metadata": {},
   "outputs": [],
   "source": []
  }
 ],
 "metadata": {
  "kernelspec": {
   "display_name": "Python 3 (ipykernel)",
   "language": "python",
   "name": "python3"
  },
  "language_info": {
   "codemirror_mode": {
    "name": "ipython",
    "version": 3
   },
   "file_extension": ".py",
   "mimetype": "text/x-python",
   "name": "python",
   "nbconvert_exporter": "python",
   "pygments_lexer": "ipython3",
   "version": "3.8.10"
  }
 },
 "nbformat": 4,
 "nbformat_minor": 5
}
